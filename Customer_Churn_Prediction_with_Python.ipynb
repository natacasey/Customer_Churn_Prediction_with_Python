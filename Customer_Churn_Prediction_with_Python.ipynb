{
 "cells": [
  {
   "cell_type": "code",
   "execution_count": 1,
   "metadata": {},
   "outputs": [],
   "source": [
    "#importing the libraries\n",
    "import warnings\n",
    "warnings.filterwarnings('ignore')\n",
    "import pandas as pd\n",
    "import pyreadstat\n",
    "import numpy as np\n",
    "import matplotlib.pyplot as plt"
   ]
  },
  {
   "cell_type": "code",
   "execution_count": 2,
   "metadata": {},
   "outputs": [],
   "source": [
    "#loading a data frame\n",
    "df =pd.read_spss(\"ATP W49.sav\")"
   ]
  },
  {
   "cell_type": "code",
   "execution_count": 795,
   "metadata": {},
   "outputs": [
    {
     "data": {
      "text/html": [
       "<div>\n",
       "<style scoped>\n",
       "    .dataframe tbody tr th:only-of-type {\n",
       "        vertical-align: middle;\n",
       "    }\n",
       "\n",
       "    .dataframe tbody tr th {\n",
       "        vertical-align: top;\n",
       "    }\n",
       "\n",
       "    .dataframe thead th {\n",
       "        text-align: right;\n",
       "    }\n",
       "</style>\n",
       "<table border=\"1\" class=\"dataframe\">\n",
       "  <thead>\n",
       "    <tr style=\"text-align: right;\">\n",
       "      <th></th>\n",
       "      <th>QKEY</th>\n",
       "      <th>DEVICE_TYPE_W49</th>\n",
       "      <th>LANG_W49</th>\n",
       "      <th>FORM_W49</th>\n",
       "      <th>SOCMEDIAUSEa_W49</th>\n",
       "      <th>SOCMEDIAUSEb_W49</th>\n",
       "      <th>SOCMEDIAUSEc_W49</th>\n",
       "      <th>SOCMEDIAUSEd_W49</th>\n",
       "      <th>SNSUSER_W49</th>\n",
       "      <th>ELECTFTGSNSINT_W49</th>\n",
       "      <th>...</th>\n",
       "      <th>F_PARTY_FINAL</th>\n",
       "      <th>F_PARTYLN_FINAL</th>\n",
       "      <th>F_PARTYSUM_FINAL</th>\n",
       "      <th>F_INCOME</th>\n",
       "      <th>F_INCOME_RECODE</th>\n",
       "      <th>F_REG</th>\n",
       "      <th>F_IDEO</th>\n",
       "      <th>F_ACSWEB</th>\n",
       "      <th>F_VOLSUM</th>\n",
       "      <th>WEIGHT_W49</th>\n",
       "    </tr>\n",
       "  </thead>\n",
       "  <tbody>\n",
       "    <tr>\n",
       "      <th>0</th>\n",
       "      <td>100260.0</td>\n",
       "      <td>Tablet</td>\n",
       "      <td>English</td>\n",
       "      <td>Form 2</td>\n",
       "      <td>No, do not use this</td>\n",
       "      <td>No, do not use this</td>\n",
       "      <td>No, do not use this</td>\n",
       "      <td>No, do not use this</td>\n",
       "      <td>Does not use social media</td>\n",
       "      <td>NaN</td>\n",
       "      <td>...</td>\n",
       "      <td>Republican</td>\n",
       "      <td>NaN</td>\n",
       "      <td>Rep/Lean Rep</td>\n",
       "      <td>$50,000 to less than $75,000</td>\n",
       "      <td>$30-$74,999</td>\n",
       "      <td>You are ABSOLUTELY CERTAIN that you are regist...</td>\n",
       "      <td>Very conservative</td>\n",
       "      <td>Accesses Internet by paying a cell phone compa...</td>\n",
       "      <td>No</td>\n",
       "      <td>0.308756</td>\n",
       "    </tr>\n",
       "    <tr>\n",
       "      <th>1</th>\n",
       "      <td>100588.0</td>\n",
       "      <td>Mobile phone</td>\n",
       "      <td>English</td>\n",
       "      <td>Form 1</td>\n",
       "      <td>Yes, use this</td>\n",
       "      <td>Yes, use this</td>\n",
       "      <td>Yes, use this</td>\n",
       "      <td>No, do not use this</td>\n",
       "      <td>Social media user</td>\n",
       "      <td>I am worn out by how many political posts and ...</td>\n",
       "      <td>...</td>\n",
       "      <td>Democrat</td>\n",
       "      <td>NaN</td>\n",
       "      <td>Dem/Lean Dem</td>\n",
       "      <td>$50,000 to less than $75,000</td>\n",
       "      <td>$30-$74,999</td>\n",
       "      <td>You are ABSOLUTELY CERTAIN that you are regist...</td>\n",
       "      <td>Moderate</td>\n",
       "      <td>Accesses Internet by paying a cell phone compa...</td>\n",
       "      <td>No</td>\n",
       "      <td>0.417927</td>\n",
       "    </tr>\n",
       "    <tr>\n",
       "      <th>2</th>\n",
       "      <td>100637.0</td>\n",
       "      <td>Desktop</td>\n",
       "      <td>English</td>\n",
       "      <td>Form 1</td>\n",
       "      <td>Yes, use this</td>\n",
       "      <td>No, do not use this</td>\n",
       "      <td>No, do not use this</td>\n",
       "      <td>No, do not use this</td>\n",
       "      <td>Social media user</td>\n",
       "      <td>I am worn out by how many political posts and ...</td>\n",
       "      <td>...</td>\n",
       "      <td>Independent</td>\n",
       "      <td>The Republican Party</td>\n",
       "      <td>Rep/Lean Rep</td>\n",
       "      <td>$40,000 to less than $50,000</td>\n",
       "      <td>$30-$74,999</td>\n",
       "      <td>You are ABSOLUTELY CERTAIN that you are regist...</td>\n",
       "      <td>Very conservative</td>\n",
       "      <td>Accesses Internet by paying a cell phone compa...</td>\n",
       "      <td>No</td>\n",
       "      <td>0.590463</td>\n",
       "    </tr>\n",
       "    <tr>\n",
       "      <th>3</th>\n",
       "      <td>101224.0</td>\n",
       "      <td>Mobile phone</td>\n",
       "      <td>English</td>\n",
       "      <td>Form 2</td>\n",
       "      <td>Yes, use this</td>\n",
       "      <td>No, do not use this</td>\n",
       "      <td>No, do not use this</td>\n",
       "      <td>No, do not use this</td>\n",
       "      <td>Social media user</td>\n",
       "      <td>I am worn out by how many political posts and ...</td>\n",
       "      <td>...</td>\n",
       "      <td>Republican</td>\n",
       "      <td>NaN</td>\n",
       "      <td>Rep/Lean Rep</td>\n",
       "      <td>$40,000 to less than $50,000</td>\n",
       "      <td>$30-$74,999</td>\n",
       "      <td>You are ABSOLUTELY CERTAIN that you are regist...</td>\n",
       "      <td>Conservative</td>\n",
       "      <td>Accesses Internet by paying a cell phone compa...</td>\n",
       "      <td>Yes</td>\n",
       "      <td>0.393867</td>\n",
       "    </tr>\n",
       "    <tr>\n",
       "      <th>4</th>\n",
       "      <td>101322.0</td>\n",
       "      <td>Mobile phone</td>\n",
       "      <td>English</td>\n",
       "      <td>Form 1</td>\n",
       "      <td>Yes, use this</td>\n",
       "      <td>No, do not use this</td>\n",
       "      <td>No, do not use this</td>\n",
       "      <td>No, do not use this</td>\n",
       "      <td>Social media user</td>\n",
       "      <td>I am worn out by how many political posts and ...</td>\n",
       "      <td>...</td>\n",
       "      <td>Republican</td>\n",
       "      <td>NaN</td>\n",
       "      <td>Rep/Lean Rep</td>\n",
       "      <td>$100,000 to less than $150,000</td>\n",
       "      <td>$75,000+</td>\n",
       "      <td>You are NOT registered to vote at your current...</td>\n",
       "      <td>Conservative</td>\n",
       "      <td>Accesses Internet by paying a cell phone compa...</td>\n",
       "      <td>No</td>\n",
       "      <td>1.236273</td>\n",
       "    </tr>\n",
       "  </tbody>\n",
       "</table>\n",
       "<p>5 rows × 143 columns</p>\n",
       "</div>"
      ],
      "text/plain": [
       "       QKEY DEVICE_TYPE_W49 LANG_W49 FORM_W49     SOCMEDIAUSEa_W49  \\\n",
       "0  100260.0          Tablet  English   Form 2  No, do not use this   \n",
       "1  100588.0    Mobile phone  English   Form 1        Yes, use this   \n",
       "2  100637.0         Desktop  English   Form 1        Yes, use this   \n",
       "3  101224.0    Mobile phone  English   Form 2        Yes, use this   \n",
       "4  101322.0    Mobile phone  English   Form 1        Yes, use this   \n",
       "\n",
       "      SOCMEDIAUSEb_W49     SOCMEDIAUSEc_W49     SOCMEDIAUSEd_W49  \\\n",
       "0  No, do not use this  No, do not use this  No, do not use this   \n",
       "1        Yes, use this        Yes, use this  No, do not use this   \n",
       "2  No, do not use this  No, do not use this  No, do not use this   \n",
       "3  No, do not use this  No, do not use this  No, do not use this   \n",
       "4  No, do not use this  No, do not use this  No, do not use this   \n",
       "\n",
       "                 SNSUSER_W49  \\\n",
       "0  Does not use social media   \n",
       "1          Social media user   \n",
       "2          Social media user   \n",
       "3          Social media user   \n",
       "4          Social media user   \n",
       "\n",
       "                                  ELECTFTGSNSINT_W49  ... F_PARTY_FINAL  \\\n",
       "0                                                NaN  ...    Republican   \n",
       "1  I am worn out by how many political posts and ...  ...      Democrat   \n",
       "2  I am worn out by how many political posts and ...  ...   Independent   \n",
       "3  I am worn out by how many political posts and ...  ...    Republican   \n",
       "4  I am worn out by how many political posts and ...  ...    Republican   \n",
       "\n",
       "        F_PARTYLN_FINAL F_PARTYSUM_FINAL                        F_INCOME  \\\n",
       "0                   NaN     Rep/Lean Rep    $50,000 to less than $75,000   \n",
       "1                   NaN     Dem/Lean Dem    $50,000 to less than $75,000   \n",
       "2  The Republican Party     Rep/Lean Rep    $40,000 to less than $50,000   \n",
       "3                   NaN     Rep/Lean Rep    $40,000 to less than $50,000   \n",
       "4                   NaN     Rep/Lean Rep  $100,000 to less than $150,000   \n",
       "\n",
       "  F_INCOME_RECODE                                              F_REG  \\\n",
       "0     $30-$74,999  You are ABSOLUTELY CERTAIN that you are regist...   \n",
       "1     $30-$74,999  You are ABSOLUTELY CERTAIN that you are regist...   \n",
       "2     $30-$74,999  You are ABSOLUTELY CERTAIN that you are regist...   \n",
       "3     $30-$74,999  You are ABSOLUTELY CERTAIN that you are regist...   \n",
       "4        $75,000+  You are NOT registered to vote at your current...   \n",
       "\n",
       "              F_IDEO                                           F_ACSWEB  \\\n",
       "0  Very conservative  Accesses Internet by paying a cell phone compa...   \n",
       "1           Moderate  Accesses Internet by paying a cell phone compa...   \n",
       "2  Very conservative  Accesses Internet by paying a cell phone compa...   \n",
       "3       Conservative  Accesses Internet by paying a cell phone compa...   \n",
       "4       Conservative  Accesses Internet by paying a cell phone compa...   \n",
       "\n",
       "  F_VOLSUM WEIGHT_W49  \n",
       "0       No   0.308756  \n",
       "1       No   0.417927  \n",
       "2       No   0.590463  \n",
       "3      Yes   0.393867  \n",
       "4       No   1.236273  \n",
       "\n",
       "[5 rows x 143 columns]"
      ]
     },
     "execution_count": 795,
     "metadata": {},
     "output_type": "execute_result"
    }
   ],
   "source": [
    "#showing first few observations\n",
    "df.head()"
   ]
  },
  {
   "cell_type": "code",
   "execution_count": 796,
   "metadata": {},
   "outputs": [
    {
     "data": {
      "text/plain": [
       "(4272, 143)"
      ]
     },
     "execution_count": 796,
     "metadata": {},
     "output_type": "execute_result"
    }
   ],
   "source": [
    "#checking the dimension\n",
    "df.shape"
   ]
  },
  {
   "cell_type": "code",
   "execution_count": 797,
   "metadata": {},
   "outputs": [
    {
     "data": {
      "text/plain": [
       "column_name        36\n",
       "percent_missing    36\n",
       "dtype: int64"
      ]
     },
     "execution_count": 797,
     "metadata": {},
     "output_type": "execute_result"
    }
   ],
   "source": [
    "#looking at the variables with highest percentage of missing values\n",
    "percent_missing = df.isnull().sum() * 100 / len(df)\n",
    "missing_value_df = pd.DataFrame({'column_name': df.columns,\n",
    "                                 'percent_missing': percent_missing})\n",
    "\n",
    "missing_df = missing_value_df.sort_values(by ='percent_missing',ascending=False )\n",
    "missing_df[missing_df['percent_missing'] > 50.0].count()\n"
   ]
  },
  {
   "cell_type": "code",
   "execution_count": 798,
   "metadata": {},
   "outputs": [
    {
     "data": {
      "text/html": [
       "<div>\n",
       "<style scoped>\n",
       "    .dataframe tbody tr th:only-of-type {\n",
       "        vertical-align: middle;\n",
       "    }\n",
       "\n",
       "    .dataframe tbody tr th {\n",
       "        vertical-align: top;\n",
       "    }\n",
       "\n",
       "    .dataframe thead th {\n",
       "        text-align: right;\n",
       "    }\n",
       "</style>\n",
       "<table border=\"1\" class=\"dataframe\">\n",
       "  <thead>\n",
       "    <tr style=\"text-align: right;\">\n",
       "      <th></th>\n",
       "      <th>column_name</th>\n",
       "      <th>percent_missing</th>\n",
       "    </tr>\n",
       "  </thead>\n",
       "  <tbody>\n",
       "    <tr>\n",
       "      <th>HOMEASSIST5b_W49</th>\n",
       "      <td>HOMEASSIST5b_W49</td>\n",
       "      <td>87.687266</td>\n",
       "    </tr>\n",
       "    <tr>\n",
       "      <th>HOMEASSIST5a_W49</th>\n",
       "      <td>HOMEASSIST5a_W49</td>\n",
       "      <td>87.336142</td>\n",
       "    </tr>\n",
       "    <tr>\n",
       "      <th>HOMEASSIST2_W49</th>\n",
       "      <td>HOMEASSIST2_W49</td>\n",
       "      <td>75.023408</td>\n",
       "    </tr>\n",
       "    <tr>\n",
       "      <th>HOMEASSIST4_W49</th>\n",
       "      <td>HOMEASSIST4_W49</td>\n",
       "      <td>75.023408</td>\n",
       "    </tr>\n",
       "    <tr>\n",
       "      <th>HOMEASSIST3_W49</th>\n",
       "      <td>HOMEASSIST3_W49</td>\n",
       "      <td>75.023408</td>\n",
       "    </tr>\n",
       "    <tr>\n",
       "      <th>CONCERNGRPc_W49</th>\n",
       "      <td>CONCERNGRPc_W49</td>\n",
       "      <td>69.264981</td>\n",
       "    </tr>\n",
       "    <tr>\n",
       "      <th>F_PARTYLN_FINAL</th>\n",
       "      <td>F_PARTYLN_FINAL</td>\n",
       "      <td>62.031835</td>\n",
       "    </tr>\n",
       "    <tr>\n",
       "      <th>CONCERNGRPf_W49</th>\n",
       "      <td>CONCERNGRPf_W49</td>\n",
       "      <td>59.550562</td>\n",
       "    </tr>\n",
       "    <tr>\n",
       "      <th>TALKCMNSNSINT_W49</th>\n",
       "      <td>TALKCMNSNSINT_W49</td>\n",
       "      <td>59.550562</td>\n",
       "    </tr>\n",
       "    <tr>\n",
       "      <th>CONTROLGRPa_W49</th>\n",
       "      <td>CONTROLGRPa_W49</td>\n",
       "      <td>58.590824</td>\n",
       "    </tr>\n",
       "  </tbody>\n",
       "</table>\n",
       "</div>"
      ],
      "text/plain": [
       "                         column_name  percent_missing\n",
       "HOMEASSIST5b_W49    HOMEASSIST5b_W49        87.687266\n",
       "HOMEASSIST5a_W49    HOMEASSIST5a_W49        87.336142\n",
       "HOMEASSIST2_W49      HOMEASSIST2_W49        75.023408\n",
       "HOMEASSIST4_W49      HOMEASSIST4_W49        75.023408\n",
       "HOMEASSIST3_W49      HOMEASSIST3_W49        75.023408\n",
       "CONCERNGRPc_W49      CONCERNGRPc_W49        69.264981\n",
       "F_PARTYLN_FINAL      F_PARTYLN_FINAL        62.031835\n",
       "CONCERNGRPf_W49      CONCERNGRPf_W49        59.550562\n",
       "TALKCMNSNSINT_W49  TALKCMNSNSINT_W49        59.550562\n",
       "CONTROLGRPa_W49      CONTROLGRPa_W49        58.590824"
      ]
     },
     "execution_count": 798,
     "metadata": {},
     "output_type": "execute_result"
    }
   ],
   "source": [
    "#lookign at the top 10 variables with the highest percentage of missing values\n",
    "missing_df.head(10)"
   ]
  },
  {
   "cell_type": "code",
   "execution_count": 7,
   "metadata": {},
   "outputs": [],
   "source": [
    "#values \"Refused' are basically missing values and I will replace them with NaN\n",
    "df = df.replace('Refused',np.nan)"
   ]
  },
  {
   "cell_type": "code",
   "execution_count": 8,
   "metadata": {},
   "outputs": [
    {
     "data": {
      "text/plain": [
       "[No, have not done this, Yes, have done this, NaN]\n",
       "Categories (2, object): [No, have not done this, Yes, have done this]"
      ]
     },
     "execution_count": 8,
     "metadata": {},
     "output_type": "execute_result"
    }
   ],
   "source": [
    "#looking at the target variable and its unique values\n",
    "df['SHARE1_W49'].unique()"
   ]
  },
  {
   "cell_type": "code",
   "execution_count": 9,
   "metadata": {},
   "outputs": [],
   "source": [
    "#removing the missing values for the target variable\n",
    "dfr = df.dropna(how='any', subset=['SHARE1_W49'])\n"
   ]
  },
  {
   "cell_type": "code",
   "execution_count": 10,
   "metadata": {
    "scrolled": true
   },
   "outputs": [
    {
     "data": {
      "image/png": "[encoded data removed]",
      "text/plain": [
       "<Figure size 864x432 with 1 Axes>"
      ]
     },
     "metadata": {},
     "output_type": "display_data"
    }
   ],
   "source": [
    "#creating a pie chart for  the target variable to see how balanced the 2 classes are\n",
    "import matplotlib.pyplot as plt\n",
    "share1= dfr['SHARE1_W49']\n",
    "colors = ['darkseagreen', 'powderblue']\n",
    "keys, counts = np.unique(share1, return_counts=True)\n",
    "plt.figure(figsize=(12,6))\n",
    "plt.pie(counts, labels=keys,colors = colors, autopct='%1.1f%%',\n",
    "        shadow=True, startangle=90,textprops={'fontsize': 16})\n",
    "plt.rcParams['font.size'] = 25\n",
    "plt.title(\"Have you recently decided NOT to use a product or service \\n because you were worried about how much personal information would be collected about you? \", fontsize=20)\n",
    "plt.show()"
   ]
  },
  {
   "cell_type": "markdown",
   "metadata": {},
   "source": [
    "\"Yes\" is a more popular answer, yet the number of people who responded \"no\" is not that much smaller."
   ]
  },
  {
   "cell_type": "code",
   "execution_count": 11,
   "metadata": {},
   "outputs": [],
   "source": [
    "#subsetting the data\n",
    "newdf=dfr[['SHARE1_W49', 'F_AGECAT']]\n",
    "newdf = newdf[newdf.SHARE1_W49 != 'Refused']\n",
    "newdf = newdf[newdf.F_AGECAT != 'DK/REF']"
   ]
  },
  {
   "cell_type": "code",
   "execution_count": 12,
   "metadata": {},
   "outputs": [],
   "source": [
    "#grouping the data \n",
    "plottable = newdf.groupby([ 'F_AGECAT', 'SHARE1_W49']).size().unstack()"
   ]
  },
  {
   "cell_type": "code",
   "execution_count": 13,
   "metadata": {},
   "outputs": [
    {
     "data": {
      "image/png": "[encoded data removed]",
      "text/plain": [
       "<Figure size 1152x576 with 1 Axes>"
      ]
     },
     "metadata": {
      "needs_background": "light"
     },
     "output_type": "display_data"
    }
   ],
   "source": [
    "#looking at some of the demographics\n",
    "colors = ['cadetblue', 'wheat']\n",
    "ax = plottable.plot(kind='bar', color = colors, edgecolor='black',fontsize=14, figsize=(16,8))\n",
    "#customizing the title\n",
    "ax.set_title(\"Have you recently decided NOT to use a product or service because you were worried about how much personal information would be collected about you? \\n\", fontsize=23)\n",
    "#customizing x label\n",
    "ax.set_xlabel('Age Group', fontsize=25)\n",
    "#customizing y label\n",
    "ax.set_ylabel('Count', fontsize=25);\n",
    "plt.xticks(rotation=0, fontsize = 15);\n",
    "plt.legend(bbox_to_anchor=(1.05, 1), loc='upper left', borderaxespad=0.)\n",
    "plt.show()"
   ]
  },
  {
   "cell_type": "markdown",
   "metadata": {},
   "source": [
    "It looks like age groups 18-29 and 65+ opted out of service over personal data collection more, than age groups 30-49 and 50-64."
   ]
  },
  {
   "cell_type": "code",
   "execution_count": 14,
   "metadata": {},
   "outputs": [],
   "source": [
    "stackdata= df[['F_METRO','SHARE1_W49' ]]\n",
    "stackdata = stackdata[stackdata.SHARE1_W49 != 'Refused']\n",
    "stackdata = stackdata[stackdata.F_METRO != 'Refused']\n",
    "plottableloyalty = stackdata.groupby(['F_METRO','SHARE1_W49']).size().unstack()"
   ]
  },
  {
   "cell_type": "code",
   "execution_count": 40,
   "metadata": {},
   "outputs": [
    {
     "data": {
      "image/png": "[encoded data removed]",
      "text/plain": [
       "<Figure size 720x504 with 1 Axes>"
      ]
     },
     "metadata": {
      "needs_background": "light"
     },
     "output_type": "display_data"
    }
   ],
   "source": [
    "# comparing the response to the question of whether people opted out of service because of their personal data use\n",
    "# based on whether they live in the metropolitan are or non-metropolitan area.\n",
    "colors = ['indianred', 'grey']\n",
    "ax = plottableloyalty.plot(kind='bar',color = colors, edgecolor='black', figsize=(10,7))\n",
    "plt.legend(bbox_to_anchor=(1.05, 1), loc='upper left', borderaxespad=0.)\n",
    "ax.set_title(\"Opting out of service that uses personal data\\n depending on metropolitan/non-metropolitan area of living\\n\", fontsize=23)\n",
    "#customizing x label\n",
    "ax.set_xlabel('Area', fontsize=25)\n",
    "#customizing y label\n",
    "ax.set_ylabel('Count', fontsize=25);\n",
    "plt.xticks(rotation=0);"
   ]
  },
  {
   "cell_type": "markdown",
   "metadata": {},
   "source": [
    "Respondents living in metropolitan area have opted out of a service that uses personal data slightly more."
   ]
  },
  {
   "cell_type": "code",
   "execution_count": 33,
   "metadata": {},
   "outputs": [
    {
     "data": {
      "text/html": [
       "<div>\n",
       "<style scoped>\n",
       "    .dataframe tbody tr th:only-of-type {\n",
       "        vertical-align: middle;\n",
       "    }\n",
       "\n",
       "    .dataframe tbody tr th {\n",
       "        vertical-align: top;\n",
       "    }\n",
       "\n",
       "    .dataframe thead th {\n",
       "        text-align: right;\n",
       "    }\n",
       "</style>\n",
       "<table border=\"1\" class=\"dataframe\">\n",
       "  <thead>\n",
       "    <tr style=\"text-align: right;\">\n",
       "      <th>SHARE1_W49</th>\n",
       "      <th>No, have not done this</th>\n",
       "      <th>Yes, have done this</th>\n",
       "    </tr>\n",
       "    <tr>\n",
       "      <th>SNSUSER_W49</th>\n",
       "      <th></th>\n",
       "      <th></th>\n",
       "    </tr>\n",
       "  </thead>\n",
       "  <tbody>\n",
       "    <tr>\n",
       "      <td>Does not use social media</td>\n",
       "      <td>385</td>\n",
       "      <td>383</td>\n",
       "    </tr>\n",
       "    <tr>\n",
       "      <td>Social media user</td>\n",
       "      <td>1622</td>\n",
       "      <td>1866</td>\n",
       "    </tr>\n",
       "  </tbody>\n",
       "</table>\n",
       "</div>"
      ],
      "text/plain": [
       "SHARE1_W49                 No, have not done this  Yes, have done this\n",
       "SNSUSER_W49                                                           \n",
       "Does not use social media                     385                  383\n",
       "Social media user                            1622                 1866"
      ]
     },
     "execution_count": 33,
     "metadata": {},
     "output_type": "execute_result"
    }
   ],
   "source": [
    "#checking the number of respondents using social media\n",
    "stackdata= df[['SNSUSER_W49','SHARE1_W49' ]]\n",
    "stackdata = stackdata[stackdata.SHARE1_W49 != 'Refused']\n",
    "stackdata = stackdata[stackdata.SNSUSER_W49 != 'Refused']\n",
    "plottablesocialm = stackdata.groupby(['SNSUSER_W49','SHARE1_W49']).size().unstack()\n",
    "plottablesocialm "
   ]
  },
  {
   "cell_type": "code",
   "execution_count": 34,
   "metadata": {},
   "outputs": [
    {
     "data": {
      "image/png": "[encoded data removed]",
      "text/plain": [
       "<Figure size 720x504 with 1 Axes>"
      ]
     },
     "metadata": {
      "needs_background": "light"
     },
     "output_type": "display_data"
    }
   ],
   "source": [
    "# comparing the response to the question of whether people opted out of service because of their personal data use\n",
    "# based on whether they use social mdeia or not\n",
    "colors = ['indianred', 'grey']\n",
    "ax = plottablesocialm.plot(kind='bar',color = colors, edgecolor='black', figsize=(10,7))\n",
    "plt.legend(bbox_to_anchor=(1.05, 1), loc='upper left', borderaxespad=0.)\n",
    "ax.set_title(\"Opting out of service that uses personal data\\n depending on social media use\\n\", fontsize=23)\n",
    "#customizing x label\n",
    "ax.set_xlabel('Social Media', fontsize=25)\n",
    "#customizing y label\n",
    "ax.set_ylabel('Count', fontsize=25)\n",
    "labels = [r'No', r'Yes']\n",
    "ax.set_xticklabels(labels)\n",
    "plt.xticks(rotation=0);"
   ]
  },
  {
   "cell_type": "markdown",
   "metadata": {},
   "source": [
    "More people that use social media opted out of service because of personal data use"
   ]
  },
  {
   "cell_type": "code",
   "execution_count": 32,
   "metadata": {},
   "outputs": [
    {
     "data": {
      "text/html": [
       "<div>\n",
       "<style scoped>\n",
       "    .dataframe tbody tr th:only-of-type {\n",
       "        vertical-align: middle;\n",
       "    }\n",
       "\n",
       "    .dataframe tbody tr th {\n",
       "        vertical-align: top;\n",
       "    }\n",
       "\n",
       "    .dataframe thead th {\n",
       "        text-align: right;\n",
       "    }\n",
       "</style>\n",
       "<table border=\"1\" class=\"dataframe\">\n",
       "  <thead>\n",
       "    <tr style=\"text-align: right;\">\n",
       "      <th>SHARE1_W49</th>\n",
       "      <th>No, have not done this</th>\n",
       "      <th>Yes, have done this</th>\n",
       "    </tr>\n",
       "    <tr>\n",
       "      <th>F_EDUCCAT</th>\n",
       "      <th></th>\n",
       "      <th></th>\n",
       "    </tr>\n",
       "  </thead>\n",
       "  <tbody>\n",
       "    <tr>\n",
       "      <td>College graduate+</td>\n",
       "      <td>720</td>\n",
       "      <td>877</td>\n",
       "    </tr>\n",
       "    <tr>\n",
       "      <td>H.S. graduate or less</td>\n",
       "      <td>771</td>\n",
       "      <td>705</td>\n",
       "    </tr>\n",
       "    <tr>\n",
       "      <td>Some College</td>\n",
       "      <td>515</td>\n",
       "      <td>661</td>\n",
       "    </tr>\n",
       "  </tbody>\n",
       "</table>\n",
       "</div>"
      ],
      "text/plain": [
       "SHARE1_W49             No, have not done this  Yes, have done this\n",
       "F_EDUCCAT                                                         \n",
       "College graduate+                         720                  877\n",
       "H.S. graduate or less                     771                  705\n",
       "Some College                              515                  661"
      ]
     },
     "execution_count": 32,
     "metadata": {},
     "output_type": "execute_result"
    }
   ],
   "source": [
    "#looking at the education variable\n",
    "stackdata= df[['F_EDUCCAT','SHARE1_W49' ]]\n",
    "stackdata = stackdata[stackdata.SHARE1_W49 != 'Refused']\n",
    "stackdata = stackdata[stackdata.F_EDUCCAT != \"Don't know/Refused\"]\n",
    "plottableinternet = stackdata.groupby(['F_EDUCCAT','SHARE1_W49']).size().unstack()\n",
    "plottableinternet"
   ]
  },
  {
   "cell_type": "code",
   "execution_count": 39,
   "metadata": {},
   "outputs": [
    {
     "data": {
      "image/png": "[encoded data removed]",
      "text/plain": [
       "<Figure size 720x504 with 1 Axes>"
      ]
     },
     "metadata": {
      "needs_background": "light"
     },
     "output_type": "display_data"
    }
   ],
   "source": [
    "# comparing the response to the question of whether people opted out of service because of their personal data use\n",
    "# based on their education level\n",
    "colors = ['indianred', 'grey']\n",
    "ax = plottableinternet.plot(kind='bar',color = colors, edgecolor='black', figsize=(10,7))\n",
    "plt.legend(bbox_to_anchor=(1.05, 1), loc='upper left', borderaxespad=0.)\n",
    "ax.set_title(\"Opting out of service that uses personal data\\n depending on education level\\n\", fontsize=23)\n",
    "#customizing x label\n",
    "ax.set_xlabel('Education level', fontsize=25)\n",
    "#customizing y label\n",
    "ax.set_ylabel('Count', fontsize=25)\n",
    "#labels = [r'Yes', r'No']\n",
    "#ax.set_xticklabels(labels)\n",
    "plt.yticks(rotation=0, fontsize = 15);\n",
    "plt.xticks(rotation=0, fontsize = 15);"
   ]
  },
  {
   "cell_type": "markdown",
   "metadata": {},
   "source": [
    "People with Graduate and some college degree opted out of use of service because of personal data use more than those having High School Diploma or less"
   ]
  },
  {
   "cell_type": "code",
   "execution_count": 41,
   "metadata": {},
   "outputs": [],
   "source": [
    "import warnings\n",
    "warnings.filterwarnings('ignore')\n",
    "dfr['GOVREGV1_W49'] = dfr['GOVREGV1_W49'].str.replace('Refused?' , '')"
   ]
  },
  {
   "cell_type": "code",
   "execution_count": 57,
   "metadata": {},
   "outputs": [
    {
     "data": {
      "image/png": "[encoded data removed]",
      "text/plain": [
       "<Figure size 720x432 with 1 Axes>"
      ]
     },
     "metadata": {
      "needs_background": "light"
     },
     "output_type": "display_data"
    }
   ],
   "source": [
    "#creating a bar plot to see whether people are satisfied with the level of regulation of personal data use that is currently used\n",
    "ax = dfr.GOVREGV1_W49.value_counts().sort_index().plot(kind='bar',color = 'pink', edgecolor='black', fontsize=14, figsize=(10,6))\n",
    "#customizing the title\n",
    "ax.set_title(\"How much government regulation of what companies can do\\n with their customers’ personal information do you think there should be?\\n\", fontsize=20)\n",
    "#customizing x label\n",
    "ax.set_xlabel('Answers', fontsize=25)\n",
    "#customizing y label\n",
    "ax.set_ylabel('Count', fontsize=25);\n",
    "plt.xticks(rotation=0, fontsize = 15);\n",
    "plt.yticks( fontsize = 15);\n",
    "plt.show()\n"
   ]
  },
  {
   "cell_type": "markdown",
   "metadata": {},
   "source": [
    "Overwhelming support for the need of more regulation has been expressed by the respondents"
   ]
  },
  {
   "cell_type": "code",
   "execution_count": 46,
   "metadata": {},
   "outputs": [
    {
     "data": {
      "image/png": "[encoded data removed]",
      "text/plain": [
       "<Figure size 720x432 with 1 Axes>"
      ]
     },
     "metadata": {
      "needs_background": "light"
     },
     "output_type": "display_data"
    }
   ],
   "source": [
    "# checking whether respondents believe there is benefit in using data\n",
    "dfr['BENEFITCO_W49'] = dfr['BENEFITCO_W49'].str.replace('Refused?' , '')#creating a bar plot to see whether people are satisfied with the level of regulation of personal data use that is currently used\n",
    "ax = dfr.BENEFITCO_W49.value_counts().sort_index().plot(kind='bar',color = 'slategrey', edgecolor='black', fontsize=14, figsize=(10,6))\n",
    "#customizing the title\n",
    "ax.set_title(\"How much do you feel you personally benefit\\n from the data that companies collect about you?\\n\", fontsize=20)\n",
    "#customizing x label\n",
    "ax.set_xlabel('Answers', fontsize=25)\n",
    "#customizing y label\n",
    "ax.set_ylabel('Count', fontsize=25);\n",
    "plt.xticks(rotation=0, fontsize = 15);\n",
    "plt.yticks( fontsize = 15);\n",
    "plt.show()"
   ]
  },
  {
   "cell_type": "markdown",
   "metadata": {},
   "source": [
    "Most of the respondents believe there is very little benefit from the data that companies collect"
   ]
  },
  {
   "cell_type": "code",
   "execution_count": 45,
   "metadata": {},
   "outputs": [
    {
     "data": {
      "image/png": "[encoded data removed]",
      "text/plain": [
       "<Figure size 720x432 with 1 Axes>"
      ]
     },
     "metadata": {
      "needs_background": "light"
     },
     "output_type": "display_data"
    }
   ],
   "source": [
    "#checking what respondents think about importance of data in daily life\n",
    "dfr['ANONYMOUS1CO_W49'] = dfr['ANONYMOUS1CO_W49'].str.replace('Refused?' , '')#creating a bar plot to see whether people are satisfied with the level of regulation of personal data use that is currently used\n",
    "ax = dfr.ANONYMOUS1CO_W49.value_counts().sort_index().plot(kind='bar',color = 'slategrey', edgecolor='black', fontsize=14, figsize=(10,6))\n",
    "#customizing the title\n",
    "ax.set_title(\"Do you think it is possible to go about daily life\\n today without having companies collect data about you?\\n\", fontsize=20)\n",
    "#customizing x label\n",
    "ax.set_xlabel('Answers', fontsize=25)\n",
    "#customizing y label\n",
    "ax.set_ylabel('Count', fontsize=25);\n",
    "plt.xticks(rotation=0, fontsize = 15);\n",
    "plt.yticks( fontsize = 15);\n",
    "plt.show()"
   ]
  },
  {
   "cell_type": "markdown",
   "metadata": {},
   "source": [
    "More respondents believe it is not possible to go about daily life without data collection"
   ]
  },
  {
   "cell_type": "code",
   "execution_count": 50,
   "metadata": {},
   "outputs": [
    {
     "data": {
      "image/png": "[encoded data removed]",
      "text/plain": [
       "<Figure size 720x432 with 1 Axes>"
      ]
     },
     "metadata": {
      "needs_background": "light"
     },
     "output_type": "display_data"
    }
   ],
   "source": [
    "#checking how much people understand the laws\n",
    "dfr['PRIVACYREG_W49'] = dfr['PRIVACYREG_W49'].str.replace('Refused?' , '')#creating a bar plot to see whether people are satisfied with the level of regulation of personal data use that is currently used\n",
    "ax = dfr.PRIVACYREG_W49.value_counts().sort_index().plot(kind='bar',color = 'peachpuff',  fontsize=14, figsize=(10,6))\n",
    "#customizing the title\n",
    "ax.set_title(\"How much do you think you understand the laws and regulations\\n that are currently in place to protect your data privacy?\\n\", fontsize=20)\n",
    "#customizing x label\n",
    "ax.set_xlabel('Answers', fontsize=25)\n",
    "#customizing y label\n",
    "ax.set_ylabel('Count', fontsize=25);\n",
    "plt.xticks(rotation=0, fontsize = 15);\n",
    "plt.yticks( fontsize = 15);\n",
    "plt.show()"
   ]
  },
  {
   "cell_type": "markdown",
   "metadata": {},
   "source": [
    "Most of the respondents have very little understanding of the laws and regulations that are currently in place to protect data privacy"
   ]
  },
  {
   "cell_type": "code",
   "execution_count": 53,
   "metadata": {},
   "outputs": [
    {
     "data": {
      "image/png": "[encoded data removed]",
      "text/plain": [
       "<Figure size 720x432 with 1 Axes>"
      ]
     },
     "metadata": {
      "needs_background": "light"
     },
     "output_type": "display_data"
    }
   ],
   "source": [
    "#checking how closely respondents follow the news about privacy issues\n",
    "dfr['PRIVACYNEWS1_W49'] = dfr['PRIVACYNEWS1_W49'].str.replace('Refused?' , '')#creating a bar plot to see whether people are satisfied with the level of regulation of personal data use that is currently used\n",
    "ax = dfr.PRIVACYNEWS1_W49.value_counts().sort_index().plot(kind='bar',color = 'peachpuff',  fontsize=14, figsize=(10,6))\n",
    "#customizing the title\n",
    "ax.set_title(\"How closely do you follow news about privacy issues?\\n\", fontsize=20)\n",
    "#customizing x label\n",
    "ax.set_xlabel('Answers', fontsize=25)\n",
    "#customizing y label\n",
    "ax.set_ylabel('Count', fontsize=25);\n",
    "plt.xticks(rotation=0, fontsize = 15);\n",
    "plt.yticks( fontsize = 15);\n",
    "plt.show()"
   ]
  },
  {
   "cell_type": "markdown",
   "metadata": {},
   "source": [
    "Most of the respondents follow the news about data privacy somewhat closely"
   ]
  },
  {
   "cell_type": "code",
   "execution_count": 56,
   "metadata": {},
   "outputs": [
    {
     "data": {
      "image/png": "[encoded data removed]",
      "text/plain": [
       "<Figure size 720x432 with 1 Axes>"
      ]
     },
     "metadata": {
      "needs_background": "light"
     },
     "output_type": "display_data"
    }
   ],
   "source": [
    "#checking how often the respondents read comapny's privacy policies\n",
    "dfr['PP2_W49'] = dfr['PP2_W49'].str.replace('Refused?' , '')#creating a bar plot to see whether people are satisfied with the level of regulation of personal data use that is currently used\n",
    "ax = dfr.PP2_W49.value_counts().sort_index().plot(kind='bar',color = 'peachpuff',  fontsize=14, figsize=(10,6))\n",
    "#customizing the title\n",
    "ax.set_title(\"How often do you read a company's privacy policy?\\n\", fontsize=20)\n",
    "#customizing x label\n",
    "ax.set_xlabel('Answers', fontsize=25)\n",
    "#customizing y label\n",
    "ax.set_ylabel('Count', fontsize=25);\n",
    "plt.xticks(rotation=0, fontsize = 15);\n",
    "plt.yticks( fontsize = 15);\n",
    "plt.show()"
   ]
  },
  {
   "cell_type": "markdown",
   "metadata": {},
   "source": [
    "Most of the respondents only sometimes read the privacy policy and a lot of the respondents do not read it a lot"
   ]
  },
  {
   "cell_type": "code",
   "execution_count": 55,
   "metadata": {},
   "outputs": [
    {
     "data": {
      "text/plain": [
       "array(['Never', 'Sometimes', 'Always', 'Often', nan], dtype=object)"
      ]
     },
     "execution_count": 55,
     "metadata": {},
     "output_type": "execute_result"
    }
   ],
   "source": [
    "dfr['PPP2_W49'].unique()"
   ]
  },
  {
   "cell_type": "code",
   "execution_count": 386,
   "metadata": {},
   "outputs": [
    {
     "data": {
      "image/png": "[encoded data removed]",
      "text/plain": [
       "<Figure size 1008x504 with 1 Axes>"
      ]
     },
     "metadata": {},
     "output_type": "display_data"
    }
   ],
   "source": [
    "#creating a pie chart to see if people have stronger need for\n",
    "#better tools for allowing people to control their personal information themselves, \n",
    "#or stronger laws\n",
    "df = df.replace('Refused',np.nan)\n",
    "dfra = df.dropna(how='any', subset=['GOVREGV2_W49'])\n",
    "share1= dfra['GOVREGV2_W49']\n",
    "colors = ['lightcyan', 'pink']\n",
    "labels = [r'Better control tools', r'Stronger laws']\n",
    "keys, counts = np.unique(share1, return_counts=True)\n",
    "plt.figure(figsize=(14,7))\n",
    "plt.pie(counts, labels=labels,colors = colors, autopct='%1.1f%%',\n",
    "        shadow=True, startangle=90,textprops={'fontsize': 20})\n",
    "plt.rcParams['font.size'] = 25\n",
    "plt.title(\"Which of the two is more effective at safeguarding personal information?\\n \", fontsize=20)\n",
    "plt.show()"
   ]
  },
  {
   "cell_type": "markdown",
   "metadata": {},
   "source": [
    "Better tools for allowing people to control their personal information themselves is a more popular choice."
   ]
  },
  {
   "cell_type": "code",
   "execution_count": 387,
   "metadata": {},
   "outputs": [
    {
     "data": {
      "text/html": [
       "<style  type=\"text/css\" >\n",
       "</style><table id=\"T_addd58e8_b979_11ea_b282_74dfbf46be8a\" ><caption>Level of concern about amount of information the following people or groups know</caption><thead>    <tr>        <th class=\"blank level0\" ></th>        <th class=\"col_heading level0 col0\" >Concerned a little</th>        <th class=\"col_heading level0 col1\" >Concerned a lot</th>        <th class=\"col_heading level0 col2\" >Not concerned</th>    </tr></thead><tbody>\n",
       "                <tr>\n",
       "                        <th id=\"T_addd58e8_b979_11ea_b282_74dfbf46be8alevel0_row0\" class=\"row_heading level0 row0\" >enforcement agencies</th>\n",
       "                        <td id=\"T_addd58e8_b979_11ea_b282_74dfbf46be8arow0_col0\" class=\"data row0 col0\" >758</td>\n",
       "                        <td id=\"T_addd58e8_b979_11ea_b282_74dfbf46be8arow0_col1\" class=\"data row0 col1\" >509</td>\n",
       "                        <td id=\"T_addd58e8_b979_11ea_b282_74dfbf46be8arow0_col2\" class=\"data row0 col2\" >864</td>\n",
       "            </tr>\n",
       "            <tr>\n",
       "                        <th id=\"T_addd58e8_b979_11ea_b282_74dfbf46be8alevel0_row1\" class=\"row_heading level0 row1\" >advertisers</th>\n",
       "                        <td id=\"T_addd58e8_b979_11ea_b282_74dfbf46be8arow1_col0\" class=\"data row1 col0\" >954</td>\n",
       "                        <td id=\"T_addd58e8_b979_11ea_b282_74dfbf46be8arow1_col1\" class=\"data row1 col1\" >844</td>\n",
       "                        <td id=\"T_addd58e8_b979_11ea_b282_74dfbf46be8arow1_col2\" class=\"data row1 col2\" >331</td>\n",
       "            </tr>\n",
       "            <tr>\n",
       "                        <th id=\"T_addd58e8_b979_11ea_b282_74dfbf46be8alevel0_row2\" class=\"row_heading level0 row2\" >your employer</th>\n",
       "                        <td id=\"T_addd58e8_b979_11ea_b282_74dfbf46be8arow2_col0\" class=\"data row2 col0\" >506</td>\n",
       "                        <td id=\"T_addd58e8_b979_11ea_b282_74dfbf46be8arow2_col1\" class=\"data row2 col1\" >251</td>\n",
       "                        <td id=\"T_addd58e8_b979_11ea_b282_74dfbf46be8arow2_col2\" class=\"data row2 col2\" >545</td>\n",
       "            </tr>\n",
       "            <tr>\n",
       "                        <th id=\"T_addd58e8_b979_11ea_b282_74dfbf46be8alevel0_row3\" class=\"row_heading level0 row3\" >companies you buy things from</th>\n",
       "                        <td id=\"T_addd58e8_b979_11ea_b282_74dfbf46be8arow3_col0\" class=\"data row3 col0\" >1072</td>\n",
       "                        <td id=\"T_addd58e8_b979_11ea_b282_74dfbf46be8arow3_col1\" class=\"data row3 col1\" >648</td>\n",
       "                        <td id=\"T_addd58e8_b979_11ea_b282_74dfbf46be8arow3_col2\" class=\"data row3 col2\" >400</td>\n",
       "            </tr>\n",
       "            <tr>\n",
       "                        <th id=\"T_addd58e8_b979_11ea_b282_74dfbf46be8alevel0_row4\" class=\"row_heading level0 row4\" >friends and family</th>\n",
       "                        <td id=\"T_addd58e8_b979_11ea_b282_74dfbf46be8arow4_col0\" class=\"data row4 col0\" >723</td>\n",
       "                        <td id=\"T_addd58e8_b979_11ea_b282_74dfbf46be8arow4_col1\" class=\"data row4 col1\" >194</td>\n",
       "                        <td id=\"T_addd58e8_b979_11ea_b282_74dfbf46be8arow4_col2\" class=\"data row4 col2\" >1204</td>\n",
       "            </tr>\n",
       "            <tr>\n",
       "                        <th id=\"T_addd58e8_b979_11ea_b282_74dfbf46be8alevel0_row5\" class=\"row_heading level0 row5\" >media sites you use</th>\n",
       "                        <td id=\"T_addd58e8_b979_11ea_b282_74dfbf46be8arow5_col0\" class=\"data row5 col0\" >783</td>\n",
       "                        <td id=\"T_addd58e8_b979_11ea_b282_74dfbf46be8arow5_col1\" class=\"data row5 col1\" >701</td>\n",
       "                        <td id=\"T_addd58e8_b979_11ea_b282_74dfbf46be8arow5_col2\" class=\"data row5 col2\" >239</td>\n",
       "            </tr>\n",
       "    </tbody></table>"
      ],
      "text/plain": [
       "<pandas.io.formats.style.Styler at 0x1e71dfe85c8>"
      ]
     },
     "execution_count": 387,
     "metadata": {},
     "output_type": "execute_result"
    }
   ],
   "source": [
    "#creating a pivot about people's concern about amount of information used by the groups presented below \n",
    "dfconcern = dfr[[\"CONCERNGRPa_W49\",\"CONCERNGRPb_W49\",\"CONCERNGRPc_W49\",\"CONCERNGRPd_W49\",\"CONCERNGRPe_W49\",\"CONCERNGRPf_W49\" ]]\n",
    "newlist = []\n",
    "for column in dfconcern:\n",
    "    grouped = dfconcern.groupby(column)\n",
    "    newlist.append(grouped.size())\n",
    "names = ['enforcement agencies', 'advertisers', 'your employer', 'companies you buy things from', 'friends and family', 'media sites you use']\n",
    "data=pd.DataFrame(newlist, index= names)\n",
    "data.drop(['Refused'], axis=1, inplace = True)\n",
    "data.style.set_caption('Level of concern about amount of information the following people or groups know')"
   ]
  },
  {
   "cell_type": "markdown",
   "metadata": {},
   "source": [
    "The highest concern is about how much information advertisers know, followed by media sites you use and companies you buy things from. "
   ]
  },
  {
   "cell_type": "markdown",
   "metadata": {},
   "source": [
    "How comfortable are you, if at all, with companies using your personal data in the following ways?\n"
   ]
  },
  {
   "cell_type": "code",
   "execution_count": 388,
   "metadata": {},
   "outputs": [
    {
     "data": {
      "text/html": [
       "<style  type=\"text/css\" >\n",
       "</style><table id=\"T_b531fd70_b979_11ea_8a64_74dfbf46be8a\" ><caption>How comfortable are you, if at all, with companies using your personal data in the following ways?</caption><thead>    <tr>        <th class=\"blank level0\" ></th>        <th class=\"col_heading level0 col0\" >Not comfortable at all</th>        <th class=\"col_heading level0 col1\" >Not too comfortable</th>        <th class=\"col_heading level0 col2\" >Somewhat comfortable</th>        <th class=\"col_heading level0 col3\" >Very comfortable</th>    </tr></thead><tbody>\n",
       "                <tr>\n",
       "                        <th id=\"T_b531fd70_b979_11ea_8a64_74dfbf46be8alevel0_row0\" class=\"row_heading level0 row0\" >To help improve their fraud prevention systems</th>\n",
       "                        <td id=\"T_b531fd70_b979_11ea_8a64_74dfbf46be8arow0_col0\" class=\"data row0 col0\" >564</td>\n",
       "                        <td id=\"T_b531fd70_b979_11ea_8a64_74dfbf46be8arow0_col1\" class=\"data row0 col1\" >1260</td>\n",
       "                        <td id=\"T_b531fd70_b979_11ea_8a64_74dfbf46be8arow0_col2\" class=\"data row0 col2\" >1978</td>\n",
       "                        <td id=\"T_b531fd70_b979_11ea_8a64_74dfbf46be8arow0_col3\" class=\"data row0 col3\" >432</td>\n",
       "            </tr>\n",
       "            <tr>\n",
       "                        <th id=\"T_b531fd70_b979_11ea_8a64_74dfbf46be8alevel0_row1\" class=\"row_heading level0 row1\" >Sharing it with outside groups doing research that might help improve society</th>\n",
       "                        <td id=\"T_b531fd70_b979_11ea_8a64_74dfbf46be8arow1_col0\" class=\"data row1 col0\" >1155</td>\n",
       "                        <td id=\"T_b531fd70_b979_11ea_8a64_74dfbf46be8arow1_col1\" class=\"data row1 col1\" >1601</td>\n",
       "                        <td id=\"T_b531fd70_b979_11ea_8a64_74dfbf46be8arow1_col2\" class=\"data row1 col2\" >1272</td>\n",
       "                        <td id=\"T_b531fd70_b979_11ea_8a64_74dfbf46be8arow1_col3\" class=\"data row1 col3\" >212</td>\n",
       "            </tr>\n",
       "            <tr>\n",
       "                        <th id=\"T_b531fd70_b979_11ea_8a64_74dfbf46be8alevel0_row2\" class=\"row_heading level0 row2\" >To help them develop new products</th>\n",
       "                        <td id=\"T_b531fd70_b979_11ea_8a64_74dfbf46be8arow2_col0\" class=\"data row2 col0\" >742</td>\n",
       "                        <td id=\"T_b531fd70_b979_11ea_8a64_74dfbf46be8arow2_col1\" class=\"data row2 col1\" >1387</td>\n",
       "                        <td id=\"T_b531fd70_b979_11ea_8a64_74dfbf46be8arow2_col2\" class=\"data row2 col2\" >1803</td>\n",
       "                        <td id=\"T_b531fd70_b979_11ea_8a64_74dfbf46be8arow2_col3\" class=\"data row2 col3\" >305</td>\n",
       "            </tr>\n",
       "    </tbody></table>"
      ],
      "text/plain": [
       "<pandas.io.formats.style.Styler at 0x1e71df72508>"
      ]
     },
     "execution_count": 388,
     "metadata": {},
     "output_type": "execute_result"
    }
   ],
   "source": [
    "#creating a table by grouping various variables by the unique values (same answers)\n",
    "dfcomfort = dfr[[\"PP6a_W49\",\"PP6b_W49\",\"PP6c_W49\" ]]\n",
    "newlist2 = []\n",
    "for column in dfcomfort:\n",
    "    grouped = dfcomfort.groupby(column)\n",
    "    newlist2.append(grouped.size())\n",
    "names = ['To help improve their fraud prevention systems', 'Sharing it with outside groups doing research that might help improve society', 'To help them develop new products']\n",
    "data=pd.DataFrame(newlist2, index= names)\n",
    "data.drop(['Refused'], axis=1, inplace = True)\n",
    "data.style.set_caption('How comfortable are you, if at all, with companies using your personal data in the following ways?')"
   ]
  },
  {
   "cell_type": "markdown",
   "metadata": {},
   "source": [
    "People are most comfortable if their personal data is used for fraud prevention. "
   ]
  },
  {
   "cell_type": "code",
   "execution_count": 389,
   "metadata": {},
   "outputs": [
    {
     "data": {
      "text/html": [
       "<div>\n",
       "<style scoped>\n",
       "    .dataframe tbody tr th:only-of-type {\n",
       "        vertical-align: middle;\n",
       "    }\n",
       "\n",
       "    .dataframe tbody tr th {\n",
       "        vertical-align: top;\n",
       "    }\n",
       "\n",
       "    .dataframe thead th {\n",
       "        text-align: right;\n",
       "    }\n",
       "</style>\n",
       "<table border=\"1\" class=\"dataframe\">\n",
       "  <thead>\n",
       "    <tr style=\"text-align: right;\">\n",
       "      <th></th>\n",
       "      <th>Number of users</th>\n",
       "    </tr>\n",
       "  </thead>\n",
       "  <tbody>\n",
       "    <tr>\n",
       "      <td>Facebook</td>\n",
       "      <td>3107</td>\n",
       "    </tr>\n",
       "    <tr>\n",
       "      <td>Instagram</td>\n",
       "      <td>1555</td>\n",
       "    </tr>\n",
       "    <tr>\n",
       "      <td>Twitter</td>\n",
       "      <td>923</td>\n",
       "    </tr>\n",
       "    <tr>\n",
       "      <td>Other</td>\n",
       "      <td>1179</td>\n",
       "    </tr>\n",
       "  </tbody>\n",
       "</table>\n",
       "</div>"
      ],
      "text/plain": [
       "           Number of users\n",
       "Facebook              3107\n",
       "Instagram             1555\n",
       "Twitter                923\n",
       "Other                 1179"
      ]
     },
     "execution_count": 389,
     "metadata": {},
     "output_type": "execute_result"
    }
   ],
   "source": [
    "#creating a table to reflect the popularity of social networks\n",
    "dfsocial = dfr[[\"SOCMEDIAUSEa_W49\",  \"SOCMEDIAUSEb_W49\", \"SOCMEDIAUSEc_W49\",\"SOCMEDIAUSEd_W49\"]]\n",
    "newlistsocial = []\n",
    "for column in dfsocial:\n",
    "    grouped = dfsocial.groupby(column)\n",
    "    newlistsocial.append(grouped.size())\n",
    "newnames = ['Facebook', 'Instagram', 'Twitter', 'Other']\n",
    "datasocial=pd.DataFrame(newlistsocial, index= newnames)\n",
    "datasocial.drop(['Refused', \"No, do not use this\"], axis=1, inplace = True)\n",
    "datasocial.rename(columns={\"Yes, use this\": \"Number of users\"})"
   ]
  },
  {
   "cell_type": "markdown",
   "metadata": {},
   "source": [
    "The most popular social network is Facebook."
   ]
  },
  {
   "cell_type": "code",
   "execution_count": 671,
   "metadata": {},
   "outputs": [
    {
     "data": {
      "text/html": [
       "<div>\n",
       "<style scoped>\n",
       "    .dataframe tbody tr th:only-of-type {\n",
       "        vertical-align: middle;\n",
       "    }\n",
       "\n",
       "    .dataframe tbody tr th {\n",
       "        vertical-align: top;\n",
       "    }\n",
       "\n",
       "    .dataframe thead th {\n",
       "        text-align: right;\n",
       "    }\n",
       "</style>\n",
       "<table border=\"1\" class=\"dataframe\">\n",
       "  <thead>\n",
       "    <tr style=\"text-align: right;\">\n",
       "      <th></th>\n",
       "      <th>% of respondents</th>\n",
       "    </tr>\n",
       "  </thead>\n",
       "  <tbody>\n",
       "    <tr>\n",
       "      <td>Fraudulent charges</td>\n",
       "      <td>22.0</td>\n",
       "    </tr>\n",
       "    <tr>\n",
       "      <td>hacked social media/email</td>\n",
       "      <td>8.0</td>\n",
       "    </tr>\n",
       "    <tr>\n",
       "      <td>a line of credit or a loan</td>\n",
       "      <td>6.0</td>\n",
       "    </tr>\n",
       "  </tbody>\n",
       "</table>\n",
       "</div>"
      ],
      "text/plain": [
       "                             % of respondents\n",
       "Fraudulent charges                       22.0\n",
       "hacked social media/email                 8.0\n",
       " a line of credit or a loan               6.0"
      ]
     },
     "execution_count": 671,
     "metadata": {},
     "output_type": "execute_result"
    }
   ],
   "source": [
    "#creating a table to reflect how the respondents have been recently affected by data miuse\n",
    "dfwhy = df[['DB1a_W49', 'DB1b_W49', 'DB1c_W49']]\n",
    "newlistwhy = []\n",
    "for column in dfwhy:\n",
    "    grouped = dfwhy.groupby(column)\n",
    "    newlistwhy.append(grouped.size())\n",
    "newnames = ['Fraudulent charges', 'hacked social media/email', ' a line of credit or a loan']\n",
    "datawhy=pd.DataFrame(newlistwhy, index= newnames)\n",
    "datawhy.drop(['Refused', \"Offline: does not have internet\", \"No\"], axis=1, inplace = True)\n",
    "datawhy.astype(int)\n",
    "(100. * datawhy / 4254).round(0)\n",
    "datan = datawhy.rename(columns={\"Yes\": \"% of respondents\"})\n",
    "datam = (100. * datan / 4254).round(0)\n",
    "datam"
   ]
  },
  {
   "cell_type": "code",
   "execution_count": 673,
   "metadata": {},
   "outputs": [
    {
     "data": {
      "image/png": "[encoded data removed]",
      "text/plain": [
       "<Figure size 720x504 with 1 Axes>"
      ]
     },
     "metadata": {},
     "output_type": "display_data"
    }
   ],
   "source": [
    "colors = ['indianred', 'grey']\n",
    "ax = datam.plot(kind='bar',color = colors, edgecolor='black', figsize=(10,7))\n",
    "plt.legend(bbox_to_anchor=(1.05, 1), loc='upper left', borderaxespad=0.)\n",
    "ax.set_title(\"Fraudulent use of personal data. Percent of respondents affected\", fontsize=23)\n",
    "#customizing x label\n",
    "ax.set_xlabel('Fraudulent Activities', fontsize=25)\n",
    "#customizing y label\n",
    "ax.set_ylabel('Percent', fontsize=25);\n",
    "plt.xticks(rotation=0, fontsize = 15);"
   ]
  },
  {
   "cell_type": "markdown",
   "metadata": {},
   "source": [
    "22% of respondents experienced fraudulent charges. Overall, 36% of respondents have been affected by some kind of data misuse"
   ]
  },
  {
   "cell_type": "code",
   "execution_count": 360,
   "metadata": {},
   "outputs": [
    {
     "data": {
      "text/plain": [
       "['QKEY',\n",
       " 'DEVICE_TYPE_W49',\n",
       " 'LANG_W49',\n",
       " 'FORM_W49',\n",
       " 'SOCMEDIAUSEa_W49',\n",
       " 'SOCMEDIAUSEb_W49',\n",
       " 'SOCMEDIAUSEc_W49',\n",
       " 'SOCMEDIAUSEd_W49',\n",
       " 'SNSUSER_W49',\n",
       " 'ELECTFTGSNSINT_W49',\n",
       " 'TALKDISASNSINT_W49',\n",
       " 'TALKCMNSNSINT_W49',\n",
       " 'SECUR1_W49',\n",
       " 'PRIVACYNEWS1_W49',\n",
       " 'HOMEASSIST1_W49',\n",
       " 'HOMEASSIST2_W49',\n",
       " 'HOMEASSIST3_W49',\n",
       " 'HOMEASSIST4_W49',\n",
       " 'HOMEASSIST5a_W49',\n",
       " 'HOMEASSIST5b_W49',\n",
       " 'HOMEIOT_W49',\n",
       " 'FITTRACK_W49',\n",
       " 'LOYALTY_W49',\n",
       " 'DNATEST_W49',\n",
       " 'TRACKCNT_W49',\n",
       " 'TRACKCO1a_W49',\n",
       " 'TRACKCO1b_W49',\n",
       " 'CONCERNCO_W49',\n",
       " 'BENEFITCO_W49',\n",
       " 'CONTROLCO_W49',\n",
       " 'UNDERSTANDCO_W49',\n",
       " 'POSNEGCO_W49',\n",
       " 'ANONYMOUS1CO_W49',\n",
       " 'TRACKGOV1a_W49',\n",
       " 'TRACKGOV1b_W49',\n",
       " 'CONCERNGOV_W49',\n",
       " 'BENEFITGOV_W49',\n",
       " 'CONTROLGOV_W49',\n",
       " 'UNDERSTANDGOV_W49',\n",
       " 'POSNEGGOV_W49',\n",
       " 'ANONYMOUS1GOV_W49',\n",
       " 'CONCERNGRPa_W49',\n",
       " 'CONCERNGRPb_W49',\n",
       " 'CONCERNGRPc_W49',\n",
       " 'CONCERNGRPd_W49',\n",
       " 'CONCERNGRPe_W49',\n",
       " 'CONCERNGRPf_W49',\n",
       " 'CONTROLGRPa_W49',\n",
       " 'CONTROLGRPb_W49',\n",
       " 'CONTROLGRPc_W49',\n",
       " 'CONTROLGRPd_W49',\n",
       " 'CONTROLGRPe_W49',\n",
       " 'CONTROLGRPf_W49',\n",
       " 'PP1_W49',\n",
       " 'PP2_W49',\n",
       " 'PP3_W49',\n",
       " 'PP4_W49',\n",
       " 'PP5a_W49',\n",
       " 'PP5b_W49',\n",
       " 'PP5c_W49',\n",
       " 'PP5d_W49',\n",
       " 'PP5e_W49',\n",
       " 'PP6a_W49',\n",
       " 'PP6b_W49',\n",
       " 'PP6c_W49',\n",
       " 'PRIVACYREG_W49',\n",
       " 'GOVREGV1_W49',\n",
       " 'GOVREGV2_W49',\n",
       " 'SHARE1_W49',\n",
       " 'KNOW1_W49',\n",
       " 'KNOW2_W49',\n",
       " 'KNOW3_W49',\n",
       " 'KNOW4_W49',\n",
       " 'KNOW5_W49',\n",
       " 'KNOW6_W49',\n",
       " 'KNOW7_W49',\n",
       " 'KNOW8_W49',\n",
       " 'KNOW9_W49',\n",
       " 'KNOW10_W49',\n",
       " 'TOTALKNOW_W49',\n",
       " 'PWMAN_W49',\n",
       " 'PWMAN2_W49',\n",
       " 'SMARTPHONE_W49',\n",
       " 'SMARTAPP_W49',\n",
       " 'PUBLICDATA_W49',\n",
       " 'RTBFa_W49',\n",
       " 'RTBFb_W49',\n",
       " 'RTBFc_W49',\n",
       " 'RTBFd_W49',\n",
       " 'RTDa_W49',\n",
       " 'RTDb_W49',\n",
       " 'RTDc_W49',\n",
       " 'RTDd_W49',\n",
       " 'PROFILE1_W49',\n",
       " 'PROFILE2_W49',\n",
       " 'PROFILE3_W49',\n",
       " 'PROFILE4_W49',\n",
       " 'PROFILE5_W49',\n",
       " 'DATAUSEa_W49',\n",
       " 'DATAUSEb_W49',\n",
       " 'DATAUSEc_W49',\n",
       " 'DATAUSEd_W49',\n",
       " 'DATAUSEe_W49',\n",
       " 'DATAUSEf_W49',\n",
       " 'FACE1_W49',\n",
       " 'FACE2a_W49',\n",
       " 'FACE2b_W49',\n",
       " 'FACE2c_W49',\n",
       " 'FACE3a_W49',\n",
       " 'FACE3b_W49',\n",
       " 'FACE3c_W49',\n",
       " 'FACE4a_W49',\n",
       " 'FACE4b_W49',\n",
       " 'FACE4c_W49',\n",
       " 'FACE4d_W49',\n",
       " 'DB1a_W49',\n",
       " 'DB1b_W49',\n",
       " 'DB1c_W49',\n",
       " 'F_METRO',\n",
       " 'F_CREGION',\n",
       " 'F_AGECAT',\n",
       " 'F_SEX',\n",
       " 'F_EDUCCAT',\n",
       " 'F_EDUCCAT2',\n",
       " 'F_HISP',\n",
       " 'F_RACECMB',\n",
       " 'F_RACETHN',\n",
       " 'F_NATIVITY',\n",
       " 'F_CITIZEN',\n",
       " 'F_MARITAL',\n",
       " 'F_RELIG',\n",
       " 'F_BORN',\n",
       " 'F_ATTEND',\n",
       " 'F_PARTY_FINAL',\n",
       " 'F_PARTYLN_FINAL',\n",
       " 'F_PARTYSUM_FINAL',\n",
       " 'F_INCOME',\n",
       " 'F_INCOME_RECODE',\n",
       " 'F_REG',\n",
       " 'F_IDEO',\n",
       " 'F_ACSWEB',\n",
       " 'F_VOLSUM',\n",
       " 'WEIGHT_W49']"
      ]
     },
     "execution_count": 360,
     "metadata": {},
     "output_type": "execute_result"
    }
   ],
   "source": [
    "#checking the names of the variables. Additional variable analysis was performed in R\n",
    "list(df)"
   ]
  },
  {
   "cell_type": "code",
   "execution_count": 3,
   "metadata": {},
   "outputs": [],
   "source": [
    "#creating a subset of varaibles where all of the participants provided answers\n",
    "dfall= df[['TRACKCNT_W49','SOCMEDIAUSEa_W49', 'SOCMEDIAUSEb_W49', 'SOCMEDIAUSEc_W49', 'SOCMEDIAUSEd_W49','SNSUSER_W49','SECUR1_W49','PRIVACYNEWS1_W49','HOMEASSIST1_W49','FITTRACK_W49', 'LOYALTY_W49', 'DNATEST_W49','HOMEIOT_W49','PP1_W49', 'PP5b_W49', 'PP5c_W49', 'PP5d_W49', 'PP5e_W49', 'PP6a_W49', 'PP6b_W49', 'PP6c_W49','PRIVACYREG_W49','SHARE1_W49','PWMAN_W49','SMARTPHONE_W49','PUBLICDATA_W49','PROFILE1_W49','DATAUSEa_W49', 'DATAUSEb_W49', 'DATAUSEc_W49', 'DATAUSEd_W49', 'DATAUSEe_W49', 'DATAUSEf_W49','FACE1_W49', 'DB1a_W49', 'DB1b_W49', 'DB1c_W49', 'F_CREGION', 'F_AGECAT', 'F_METRO', 'F_SEX', 'F_EDUCCAT', 'F_EDUCCAT2', 'F_HISP', 'F_RACECMB', 'F_RACETHN', 'F_NATIVITY', 'F_CITIZEN', 'F_MARITAL', 'F_RELIG', 'F_BORN', 'F_ATTEND', 'F_PARTY_FINAL', 'F_PARTYLN_FINAL', 'F_PARTYSUM_FINAL', 'F_INCOME', 'F_INCOME_RECODE',  'F_REG', 'F_IDEO', 'F_ACSWEB', 'F_VOLSUM','WEIGHT_W49' ]]\n"
   ]
  },
  {
   "cell_type": "code",
   "execution_count": 4,
   "metadata": {},
   "outputs": [
    {
     "data": {
      "text/plain": [
       "(4272, 62)"
      ]
     },
     "execution_count": 4,
     "metadata": {},
     "output_type": "execute_result"
    }
   ],
   "source": [
    "#showing the dimension of the subset data\n",
    "dfall.shape"
   ]
  },
  {
   "cell_type": "code",
   "execution_count": 5,
   "metadata": {},
   "outputs": [],
   "source": [
    "# selecting the variables that could be measarable by the companies so that they could apply the information \n",
    "dfm = dfall[['TRACKCNT_W49','SNSUSER_W49','HOMEASSIST1_W49','F_ACSWEB','FITTRACK_W49','SMARTPHONE_W49', 'F_VOLSUM', 'LOYALTY_W49', 'HOMEIOT_W49', 'SHARE1_W49',  'F_CREGION','F_AGECAT','F_INCOME_RECODE', 'F_METRO','F_SEX', 'F_EDUCCAT', 'F_MARITAL', 'WEIGHT_W49'  ]]"
   ]
  },
  {
   "cell_type": "code",
   "execution_count": 6,
   "metadata": {},
   "outputs": [
    {
     "data": {
      "text/html": [
       "<div>\n",
       "<style scoped>\n",
       "    .dataframe tbody tr th:only-of-type {\n",
       "        vertical-align: middle;\n",
       "    }\n",
       "\n",
       "    .dataframe tbody tr th {\n",
       "        vertical-align: top;\n",
       "    }\n",
       "\n",
       "    .dataframe thead th {\n",
       "        text-align: right;\n",
       "    }\n",
       "</style>\n",
       "<table border=\"1\" class=\"dataframe\">\n",
       "  <thead>\n",
       "    <tr style=\"text-align: right;\">\n",
       "      <th></th>\n",
       "      <th>TRACKCNT_W49</th>\n",
       "      <th>SNSUSER_W49</th>\n",
       "      <th>HOMEASSIST1_W49</th>\n",
       "      <th>F_ACSWEB</th>\n",
       "      <th>FITTRACK_W49</th>\n",
       "      <th>SMARTPHONE_W49</th>\n",
       "      <th>F_VOLSUM</th>\n",
       "      <th>LOYALTY_W49</th>\n",
       "      <th>HOMEIOT_W49</th>\n",
       "      <th>SHARE1_W49</th>\n",
       "      <th>F_CREGION</th>\n",
       "      <th>F_AGECAT</th>\n",
       "      <th>F_INCOME_RECODE</th>\n",
       "      <th>F_METRO</th>\n",
       "      <th>F_SEX</th>\n",
       "      <th>F_EDUCCAT</th>\n",
       "      <th>F_MARITAL</th>\n",
       "      <th>WEIGHT_W49</th>\n",
       "    </tr>\n",
       "  </thead>\n",
       "  <tbody>\n",
       "    <tr>\n",
       "      <th>0</th>\n",
       "      <td>0.0</td>\n",
       "      <td>Does not use social media</td>\n",
       "      <td>No</td>\n",
       "      <td>Accesses Internet by paying a cell phone compa...</td>\n",
       "      <td>No, do not wear this</td>\n",
       "      <td>Yes</td>\n",
       "      <td>No</td>\n",
       "      <td>No, do not belong to this</td>\n",
       "      <td>No</td>\n",
       "      <td>No, have not done this</td>\n",
       "      <td>West</td>\n",
       "      <td>65+</td>\n",
       "      <td>$30-$74,999</td>\n",
       "      <td>Metropolitan</td>\n",
       "      <td>Male</td>\n",
       "      <td>College graduate+</td>\n",
       "      <td>Never been married</td>\n",
       "      <td>0.308756</td>\n",
       "    </tr>\n",
       "    <tr>\n",
       "      <th>1</th>\n",
       "      <td>2.0</td>\n",
       "      <td>Social media user</td>\n",
       "      <td>No</td>\n",
       "      <td>Accesses Internet by paying a cell phone compa...</td>\n",
       "      <td>Yes, wear this</td>\n",
       "      <td>Yes</td>\n",
       "      <td>No</td>\n",
       "      <td>Yes, belong to this</td>\n",
       "      <td>No</td>\n",
       "      <td>Yes, have done this</td>\n",
       "      <td>West</td>\n",
       "      <td>30-49</td>\n",
       "      <td>$30-$74,999</td>\n",
       "      <td>Metropolitan</td>\n",
       "      <td>Female</td>\n",
       "      <td>Some College</td>\n",
       "      <td>Married</td>\n",
       "      <td>0.417927</td>\n",
       "    </tr>\n",
       "    <tr>\n",
       "      <th>2</th>\n",
       "      <td>2.0</td>\n",
       "      <td>Social media user</td>\n",
       "      <td>Yes</td>\n",
       "      <td>Accesses Internet by paying a cell phone compa...</td>\n",
       "      <td>No, do not wear this</td>\n",
       "      <td>Yes</td>\n",
       "      <td>No</td>\n",
       "      <td>Yes, belong to this</td>\n",
       "      <td>No</td>\n",
       "      <td>Yes, have done this</td>\n",
       "      <td>South</td>\n",
       "      <td>50-64</td>\n",
       "      <td>$30-$74,999</td>\n",
       "      <td>Metropolitan</td>\n",
       "      <td>Female</td>\n",
       "      <td>Some College</td>\n",
       "      <td>Married</td>\n",
       "      <td>0.590463</td>\n",
       "    </tr>\n",
       "    <tr>\n",
       "      <th>3</th>\n",
       "      <td>2.0</td>\n",
       "      <td>Social media user</td>\n",
       "      <td>No</td>\n",
       "      <td>Accesses Internet by paying a cell phone compa...</td>\n",
       "      <td>No, do not wear this</td>\n",
       "      <td>Yes</td>\n",
       "      <td>Yes</td>\n",
       "      <td>Yes, belong to this</td>\n",
       "      <td>No</td>\n",
       "      <td>No, have not done this</td>\n",
       "      <td>South</td>\n",
       "      <td>65+</td>\n",
       "      <td>$30-$74,999</td>\n",
       "      <td>Metropolitan</td>\n",
       "      <td>Male</td>\n",
       "      <td>H.S. graduate or less</td>\n",
       "      <td>Married</td>\n",
       "      <td>0.393867</td>\n",
       "    </tr>\n",
       "    <tr>\n",
       "      <th>4</th>\n",
       "      <td>1.0</td>\n",
       "      <td>Social media user</td>\n",
       "      <td>No</td>\n",
       "      <td>Accesses Internet by paying a cell phone compa...</td>\n",
       "      <td>No, do not wear this</td>\n",
       "      <td>Yes</td>\n",
       "      <td>No</td>\n",
       "      <td>Yes, belong to this</td>\n",
       "      <td>No</td>\n",
       "      <td>Yes, have done this</td>\n",
       "      <td>South</td>\n",
       "      <td>30-49</td>\n",
       "      <td>$75,000+</td>\n",
       "      <td>Metropolitan</td>\n",
       "      <td>Male</td>\n",
       "      <td>H.S. graduate or less</td>\n",
       "      <td>Never been married</td>\n",
       "      <td>1.236273</td>\n",
       "    </tr>\n",
       "  </tbody>\n",
       "</table>\n",
       "</div>"
      ],
      "text/plain": [
       "   TRACKCNT_W49                SNSUSER_W49 HOMEASSIST1_W49  \\\n",
       "0           0.0  Does not use social media              No   \n",
       "1           2.0          Social media user              No   \n",
       "2           2.0          Social media user             Yes   \n",
       "3           2.0          Social media user              No   \n",
       "4           1.0          Social media user              No   \n",
       "\n",
       "                                            F_ACSWEB          FITTRACK_W49  \\\n",
       "0  Accesses Internet by paying a cell phone compa...  No, do not wear this   \n",
       "1  Accesses Internet by paying a cell phone compa...        Yes, wear this   \n",
       "2  Accesses Internet by paying a cell phone compa...  No, do not wear this   \n",
       "3  Accesses Internet by paying a cell phone compa...  No, do not wear this   \n",
       "4  Accesses Internet by paying a cell phone compa...  No, do not wear this   \n",
       "\n",
       "  SMARTPHONE_W49 F_VOLSUM                LOYALTY_W49 HOMEIOT_W49  \\\n",
       "0            Yes       No  No, do not belong to this          No   \n",
       "1            Yes       No        Yes, belong to this          No   \n",
       "2            Yes       No        Yes, belong to this          No   \n",
       "3            Yes      Yes        Yes, belong to this          No   \n",
       "4            Yes       No        Yes, belong to this          No   \n",
       "\n",
       "               SHARE1_W49 F_CREGION F_AGECAT F_INCOME_RECODE       F_METRO  \\\n",
       "0  No, have not done this      West      65+     $30-$74,999  Metropolitan   \n",
       "1     Yes, have done this      West    30-49     $30-$74,999  Metropolitan   \n",
       "2     Yes, have done this     South    50-64     $30-$74,999  Metropolitan   \n",
       "3  No, have not done this     South      65+     $30-$74,999  Metropolitan   \n",
       "4     Yes, have done this     South    30-49        $75,000+  Metropolitan   \n",
       "\n",
       "    F_SEX              F_EDUCCAT           F_MARITAL  WEIGHT_W49  \n",
       "0    Male      College graduate+  Never been married    0.308756  \n",
       "1  Female           Some College             Married    0.417927  \n",
       "2  Female           Some College             Married    0.590463  \n",
       "3    Male  H.S. graduate or less             Married    0.393867  \n",
       "4    Male  H.S. graduate or less  Never been married    1.236273  "
      ]
     },
     "execution_count": 6,
     "metadata": {},
     "output_type": "execute_result"
    }
   ],
   "source": [
    "dfm.head()"
   ]
  },
  {
   "cell_type": "code",
   "execution_count": 7,
   "metadata": {},
   "outputs": [
    {
     "name": "stdout",
     "output_type": "stream",
     "text": [
      "<class 'pandas.core.frame.DataFrame'>\n",
      "RangeIndex: 4272 entries, 0 to 4271\n",
      "Data columns (total 18 columns):\n",
      " #   Column           Non-Null Count  Dtype   \n",
      "---  ------           --------------  -----   \n",
      " 0   TRACKCNT_W49     4272 non-null   float64 \n",
      " 1   SNSUSER_W49      4272 non-null   category\n",
      " 2   HOMEASSIST1_W49  4272 non-null   category\n",
      " 3   F_ACSWEB         4242 non-null   category\n",
      " 4   FITTRACK_W49     4272 non-null   category\n",
      " 5   SMARTPHONE_W49   4272 non-null   category\n",
      " 6   F_VOLSUM         4272 non-null   category\n",
      " 7   LOYALTY_W49      4272 non-null   category\n",
      " 8   HOMEIOT_W49      4272 non-null   category\n",
      " 9   SHARE1_W49       4272 non-null   category\n",
      " 10  F_CREGION        4272 non-null   category\n",
      " 11  F_AGECAT         4272 non-null   category\n",
      " 12  F_INCOME_RECODE  4272 non-null   category\n",
      " 13  F_METRO          4272 non-null   category\n",
      " 14  F_SEX            4272 non-null   category\n",
      " 15  F_EDUCCAT        4272 non-null   category\n",
      " 16  F_MARITAL        4272 non-null   category\n",
      " 17  WEIGHT_W49       4272 non-null   float64 \n",
      "dtypes: category(16), float64(2)\n",
      "memory usage: 135.8 KB\n"
     ]
    }
   ],
   "source": [
    "#information about the variables\n",
    "dfm.info()"
   ]
  },
  {
   "cell_type": "code",
   "execution_count": 8,
   "metadata": {},
   "outputs": [],
   "source": [
    "#saving the dataframe in a different variable\n",
    "dfm1 = dfm"
   ]
  },
  {
   "cell_type": "code",
   "execution_count": 9,
   "metadata": {},
   "outputs": [],
   "source": [
    "#removing the category refused as it looks like a missing value\n",
    "dfm1['F_MARITAL'] = dfm1['F_MARITAL'].cat.remove_categories(['Refused'])"
   ]
  },
  {
   "cell_type": "code",
   "execution_count": 10,
   "metadata": {},
   "outputs": [],
   "source": [
    "#decreasing the number of classes for variable F_MARITAL\n",
    "dfm1['F_MARITAL'] = dfm1['F_MARITAL'].replace({'Never been married': 'Not married', 'Divorced': 'Not married', 'Living with a partner': 'Not married','Widowed' : 'Not married','Separated':'Not married'})"
   ]
  },
  {
   "cell_type": "code",
   "execution_count": 11,
   "metadata": {},
   "outputs": [],
   "source": [
    "#making sure the variable is categorical\n",
    "dfm1['F_MARITAL'] = pd.Categorical(dfm1.F_MARITAL)"
   ]
  },
  {
   "cell_type": "code",
   "execution_count": 12,
   "metadata": {},
   "outputs": [],
   "source": [
    "#replacing the asnwer\"Refused\", \"Don't Know\", and \"DK\" with Nan\n",
    "dfm1['HOMEASSIST1_W49'] = dfm1['HOMEASSIST1_W49'].cat.remove_categories(['Refused'])\n",
    "dfm1['FITTRACK_W49'] = dfm1['FITTRACK_W49'].cat.remove_categories(['Refused'])\n",
    "dfm1['LOYALTY_W49'] = dfm1['LOYALTY_W49'].cat.remove_categories(['Refused'])\n",
    "dfm1['HOMEIOT_W49'] = dfm1['HOMEIOT_W49'].cat.remove_categories(['Refused'])\n",
    "dfm1['SHARE1_W49'] = dfm1['SHARE1_W49'].cat.remove_categories(['Refused'])\n",
    "dfm1['SMARTPHONE_W49'] = dfm1['SMARTPHONE_W49'].cat.remove_categories(['Refused'])\n",
    "dfm1['F_AGECAT'] = dfm1['F_AGECAT'].cat.remove_categories(['DK/REF'])\n",
    "dfm1['F_EDUCCAT'] = dfm1['F_EDUCCAT'].cat.remove_categories([\"Don't know/Refused\"])\n",
    "dfm1['F_VOLSUM'] = dfm1['F_VOLSUM'].cat.remove_categories(['Refused'])\n",
    "dfm1['F_INCOME_RECODE'] = dfm1['F_INCOME_RECODE'].cat.remove_categories([\"Don't know/Refused\"])"
   ]
  },
  {
   "cell_type": "code",
   "execution_count": 13,
   "metadata": {},
   "outputs": [
    {
     "data": {
      "text/plain": [
       "TRACKCNT_W49         0\n",
       "SNSUSER_W49          0\n",
       "HOMEASSIST1_W49     11\n",
       "F_ACSWEB            30\n",
       "FITTRACK_W49        10\n",
       "SMARTPHONE_W49      14\n",
       "F_VOLSUM            13\n",
       "LOYALTY_W49         13\n",
       "HOMEIOT_W49         17\n",
       "SHARE1_W49          16\n",
       "F_CREGION            0\n",
       "F_AGECAT             2\n",
       "F_INCOME_RECODE    200\n",
       "F_METRO              0\n",
       "F_SEX                0\n",
       "F_EDUCCAT            7\n",
       "F_MARITAL           11\n",
       "WEIGHT_W49           0\n",
       "dtype: int64"
      ]
     },
     "execution_count": 13,
     "metadata": {},
     "output_type": "execute_result"
    }
   ],
   "source": [
    "#checking the number of missing values\n",
    "dfm1.isnull().sum()"
   ]
  },
  {
   "cell_type": "code",
   "execution_count": 14,
   "metadata": {},
   "outputs": [
    {
     "data": {
      "text/plain": [
       "(3969, 18)"
      ]
     },
     "execution_count": 14,
     "metadata": {},
     "output_type": "execute_result"
    }
   ],
   "source": [
    "#removing missing values and checking the dimension\n",
    "dfm1 = dfm1.dropna(axis=0, how='any')\n",
    "dfm1.shape"
   ]
  },
  {
   "cell_type": "code",
   "execution_count": 15,
   "metadata": {},
   "outputs": [
    {
     "data": {
      "text/plain": [
       "[No, have not done this, Yes, have done this]\n",
       "Categories (2, object): [No, have not done this, Yes, have done this]"
      ]
     },
     "execution_count": 15,
     "metadata": {},
     "output_type": "execute_result"
    }
   ],
   "source": [
    "#looking at the target variable\n",
    "dfm1['SHARE1_W49'].unique()"
   ]
  },
  {
   "cell_type": "code",
   "execution_count": 16,
   "metadata": {},
   "outputs": [],
   "source": [
    "#saving the final dataframe to a csv file\n",
    "dfm1.to_csv('new_features1.csv')"
   ]
  },
  {
   "cell_type": "code",
   "execution_count": 27,
   "metadata": {},
   "outputs": [
    {
     "data": {
      "text/plain": [
       "count    3969.000000\n",
       "mean        1.549257\n",
       "std         1.180382\n",
       "min         0.000000\n",
       "25%         1.000000\n",
       "50%         1.000000\n",
       "75%         2.000000\n",
       "max         5.000000\n",
       "Name: TRACKCNT_W49, dtype: float64"
      ]
     },
     "execution_count": 27,
     "metadata": {},
     "output_type": "execute_result"
    }
   ],
   "source": [
    "#looking at the continuous variables\n",
    "dfm1['TRACKCNT_W49'].describe()"
   ]
  },
  {
   "cell_type": "code",
   "execution_count": 17,
   "metadata": {},
   "outputs": [],
   "source": [
    "#features\n",
    "dfx = dfm1.drop(['SHARE1_W49' ], axis = 1)"
   ]
  },
  {
   "cell_type": "code",
   "execution_count": 26,
   "metadata": {},
   "outputs": [
    {
     "data": {
      "text/html": [
       "<div>\n",
       "<style scoped>\n",
       "    .dataframe tbody tr th:only-of-type {\n",
       "        vertical-align: middle;\n",
       "    }\n",
       "\n",
       "    .dataframe tbody tr th {\n",
       "        vertical-align: top;\n",
       "    }\n",
       "\n",
       "    .dataframe thead th {\n",
       "        text-align: right;\n",
       "    }\n",
       "</style>\n",
       "<table border=\"1\" class=\"dataframe\">\n",
       "  <thead>\n",
       "    <tr style=\"text-align: right;\">\n",
       "      <th></th>\n",
       "      <th>SNSUSER_W49</th>\n",
       "      <th>HOMEASSIST1_W49</th>\n",
       "      <th>F_ACSWEB</th>\n",
       "      <th>FITTRACK_W49</th>\n",
       "      <th>SMARTPHONE_W49</th>\n",
       "      <th>F_VOLSUM</th>\n",
       "      <th>LOYALTY_W49</th>\n",
       "      <th>HOMEIOT_W49</th>\n",
       "      <th>F_CREGION</th>\n",
       "      <th>F_AGECAT</th>\n",
       "      <th>F_INCOME_RECODE</th>\n",
       "      <th>F_METRO</th>\n",
       "      <th>F_SEX</th>\n",
       "      <th>F_EDUCCAT</th>\n",
       "      <th>F_MARITAL</th>\n",
       "    </tr>\n",
       "  </thead>\n",
       "  <tbody>\n",
       "    <tr>\n",
       "      <th>count</th>\n",
       "      <td>3969</td>\n",
       "      <td>3969</td>\n",
       "      <td>3969</td>\n",
       "      <td>3969</td>\n",
       "      <td>3969</td>\n",
       "      <td>3969</td>\n",
       "      <td>3969</td>\n",
       "      <td>3969</td>\n",
       "      <td>3969</td>\n",
       "      <td>3969</td>\n",
       "      <td>3969</td>\n",
       "      <td>3969</td>\n",
       "      <td>3969</td>\n",
       "      <td>3969</td>\n",
       "      <td>3969</td>\n",
       "    </tr>\n",
       "    <tr>\n",
       "      <th>unique</th>\n",
       "      <td>2</td>\n",
       "      <td>2</td>\n",
       "      <td>2</td>\n",
       "      <td>2</td>\n",
       "      <td>2</td>\n",
       "      <td>2</td>\n",
       "      <td>2</td>\n",
       "      <td>2</td>\n",
       "      <td>4</td>\n",
       "      <td>4</td>\n",
       "      <td>3</td>\n",
       "      <td>2</td>\n",
       "      <td>2</td>\n",
       "      <td>3</td>\n",
       "      <td>2</td>\n",
       "    </tr>\n",
       "    <tr>\n",
       "      <th>top</th>\n",
       "      <td>Social media user</td>\n",
       "      <td>No</td>\n",
       "      <td>Accesses Internet by paying a cell phone compa...</td>\n",
       "      <td>No, do not wear this</td>\n",
       "      <td>Yes</td>\n",
       "      <td>No</td>\n",
       "      <td>Yes, belong to this</td>\n",
       "      <td>No</td>\n",
       "      <td>South</td>\n",
       "      <td>30-49</td>\n",
       "      <td>$75,000+</td>\n",
       "      <td>Metropolitan</td>\n",
       "      <td>Female</td>\n",
       "      <td>College graduate+</td>\n",
       "      <td>Married</td>\n",
       "    </tr>\n",
       "    <tr>\n",
       "      <th>freq</th>\n",
       "      <td>3265</td>\n",
       "      <td>2960</td>\n",
       "      <td>3510</td>\n",
       "      <td>3091</td>\n",
       "      <td>3503</td>\n",
       "      <td>2349</td>\n",
       "      <td>2741</td>\n",
       "      <td>3143</td>\n",
       "      <td>1478</td>\n",
       "      <td>1243</td>\n",
       "      <td>1473</td>\n",
       "      <td>3419</td>\n",
       "      <td>2199</td>\n",
       "      <td>1529</td>\n",
       "      <td>1995</td>\n",
       "    </tr>\n",
       "  </tbody>\n",
       "</table>\n",
       "</div>"
      ],
      "text/plain": [
       "              SNSUSER_W49 HOMEASSIST1_W49                                           F_ACSWEB          FITTRACK_W49 SMARTPHONE_W49 F_VOLSUM          LOYALTY_W49 HOMEIOT_W49 F_CREGION F_AGECAT F_INCOME_RECODE       F_METRO   F_SEX          F_EDUCCAT F_MARITAL\n",
       "count                3969            3969                                               3969                  3969           3969     3969                 3969        3969      3969     3969            3969          3969    3969               3969      3969\n",
       "unique                  2               2                                                  2                     2              2        2                    2           2         4        4               3             2       2                  3         2\n",
       "top     Social media user              No  Accesses Internet by paying a cell phone compa...  No, do not wear this            Yes       No  Yes, belong to this          No     South    30-49        $75,000+  Metropolitan  Female  College graduate+   Married\n",
       "freq                 3265            2960                                               3510                  3091           3503     2349                 2741        3143      1478     1243            1473          3419    2199               1529      1995"
      ]
     },
     "execution_count": 26,
     "metadata": {},
     "output_type": "execute_result"
    }
   ],
   "source": [
    "#summary report foe the features\n",
    "dfx.describe(include=['category'])"
   ]
  },
  {
   "cell_type": "code",
   "execution_count": 19,
   "metadata": {},
   "outputs": [
    {
     "data": {
      "text/plain": [
       "count                    3969\n",
       "unique                      2\n",
       "top       Yes, have done this\n",
       "freq                     2086\n",
       "Name: SHARE1_W49, dtype: object"
      ]
     },
     "execution_count": 19,
     "metadata": {},
     "output_type": "execute_result"
    }
   ],
   "source": [
    "#summary report for the target variable\n",
    "dfm1['SHARE1_W49'].describe(include=['category'])"
   ]
  },
  {
   "cell_type": "code",
   "execution_count": 815,
   "metadata": {},
   "outputs": [],
   "source": [
    "##encoding the target variable as 1 and 0\n",
    "y = dfm1['SHARE1_W49'].astype('category')\n",
    "y = y.cat.codes\n"
   ]
  },
  {
   "cell_type": "code",
   "execution_count": 817,
   "metadata": {},
   "outputs": [],
   "source": [
    "#creating dummy variables\n",
    "data = pd.get_dummies(dfx)"
   ]
  },
  {
   "cell_type": "code",
   "execution_count": 818,
   "metadata": {},
   "outputs": [
    {
     "data": {
      "text/html": [
       "<div>\n",
       "<style scoped>\n",
       "    .dataframe tbody tr th:only-of-type {\n",
       "        vertical-align: middle;\n",
       "    }\n",
       "\n",
       "    .dataframe tbody tr th {\n",
       "        vertical-align: top;\n",
       "    }\n",
       "\n",
       "    .dataframe thead th {\n",
       "        text-align: right;\n",
       "    }\n",
       "</style>\n",
       "<table border=\"1\" class=\"dataframe\">\n",
       "  <thead>\n",
       "    <tr style=\"text-align: right;\">\n",
       "      <th></th>\n",
       "      <th>TRACKCNT_W49</th>\n",
       "      <th>WEIGHT_W49</th>\n",
       "      <th>SNSUSER_W49_Does not use social media</th>\n",
       "      <th>SNSUSER_W49_Social media user</th>\n",
       "      <th>HOMEASSIST1_W49_No</th>\n",
       "      <th>HOMEASSIST1_W49_Yes</th>\n",
       "      <th>F_ACSWEB_Accesses Internet by paying a cell phone company or Internet service provider</th>\n",
       "      <th>F_ACSWEB_Does not access the Internet by paying a cell phone company or Internet service provider</th>\n",
       "      <th>FITTRACK_W49_No, do not wear this</th>\n",
       "      <th>FITTRACK_W49_Yes, wear this</th>\n",
       "      <th>...</th>\n",
       "      <th>F_INCOME_RECODE_&lt;$30,000</th>\n",
       "      <th>F_METRO_Metropolitan</th>\n",
       "      <th>F_METRO_Non-metropolitan</th>\n",
       "      <th>F_SEX_Female</th>\n",
       "      <th>F_SEX_Male</th>\n",
       "      <th>F_EDUCCAT_College graduate+</th>\n",
       "      <th>F_EDUCCAT_H.S. graduate or less</th>\n",
       "      <th>F_EDUCCAT_Some College</th>\n",
       "      <th>F_MARITAL_Married</th>\n",
       "      <th>F_MARITAL_Not married</th>\n",
       "    </tr>\n",
       "  </thead>\n",
       "  <tbody>\n",
       "    <tr>\n",
       "      <th>0</th>\n",
       "      <td>0.0</td>\n",
       "      <td>0.308756</td>\n",
       "      <td>1</td>\n",
       "      <td>0</td>\n",
       "      <td>1</td>\n",
       "      <td>0</td>\n",
       "      <td>1</td>\n",
       "      <td>0</td>\n",
       "      <td>1</td>\n",
       "      <td>0</td>\n",
       "      <td>...</td>\n",
       "      <td>0</td>\n",
       "      <td>1</td>\n",
       "      <td>0</td>\n",
       "      <td>0</td>\n",
       "      <td>1</td>\n",
       "      <td>1</td>\n",
       "      <td>0</td>\n",
       "      <td>0</td>\n",
       "      <td>0</td>\n",
       "      <td>1</td>\n",
       "    </tr>\n",
       "    <tr>\n",
       "      <th>1</th>\n",
       "      <td>2.0</td>\n",
       "      <td>0.417927</td>\n",
       "      <td>0</td>\n",
       "      <td>1</td>\n",
       "      <td>1</td>\n",
       "      <td>0</td>\n",
       "      <td>1</td>\n",
       "      <td>0</td>\n",
       "      <td>0</td>\n",
       "      <td>1</td>\n",
       "      <td>...</td>\n",
       "      <td>0</td>\n",
       "      <td>1</td>\n",
       "      <td>0</td>\n",
       "      <td>1</td>\n",
       "      <td>0</td>\n",
       "      <td>0</td>\n",
       "      <td>0</td>\n",
       "      <td>1</td>\n",
       "      <td>1</td>\n",
       "      <td>0</td>\n",
       "    </tr>\n",
       "    <tr>\n",
       "      <th>2</th>\n",
       "      <td>2.0</td>\n",
       "      <td>0.590463</td>\n",
       "      <td>0</td>\n",
       "      <td>1</td>\n",
       "      <td>0</td>\n",
       "      <td>1</td>\n",
       "      <td>1</td>\n",
       "      <td>0</td>\n",
       "      <td>1</td>\n",
       "      <td>0</td>\n",
       "      <td>...</td>\n",
       "      <td>0</td>\n",
       "      <td>1</td>\n",
       "      <td>0</td>\n",
       "      <td>1</td>\n",
       "      <td>0</td>\n",
       "      <td>0</td>\n",
       "      <td>0</td>\n",
       "      <td>1</td>\n",
       "      <td>1</td>\n",
       "      <td>0</td>\n",
       "    </tr>\n",
       "    <tr>\n",
       "      <th>3</th>\n",
       "      <td>2.0</td>\n",
       "      <td>0.393867</td>\n",
       "      <td>0</td>\n",
       "      <td>1</td>\n",
       "      <td>1</td>\n",
       "      <td>0</td>\n",
       "      <td>1</td>\n",
       "      <td>0</td>\n",
       "      <td>1</td>\n",
       "      <td>0</td>\n",
       "      <td>...</td>\n",
       "      <td>0</td>\n",
       "      <td>1</td>\n",
       "      <td>0</td>\n",
       "      <td>0</td>\n",
       "      <td>1</td>\n",
       "      <td>0</td>\n",
       "      <td>1</td>\n",
       "      <td>0</td>\n",
       "      <td>1</td>\n",
       "      <td>0</td>\n",
       "    </tr>\n",
       "    <tr>\n",
       "      <th>4</th>\n",
       "      <td>1.0</td>\n",
       "      <td>1.236273</td>\n",
       "      <td>0</td>\n",
       "      <td>1</td>\n",
       "      <td>1</td>\n",
       "      <td>0</td>\n",
       "      <td>1</td>\n",
       "      <td>0</td>\n",
       "      <td>1</td>\n",
       "      <td>0</td>\n",
       "      <td>...</td>\n",
       "      <td>0</td>\n",
       "      <td>1</td>\n",
       "      <td>0</td>\n",
       "      <td>0</td>\n",
       "      <td>1</td>\n",
       "      <td>0</td>\n",
       "      <td>1</td>\n",
       "      <td>0</td>\n",
       "      <td>0</td>\n",
       "      <td>1</td>\n",
       "    </tr>\n",
       "  </tbody>\n",
       "</table>\n",
       "<p>5 rows × 38 columns</p>\n",
       "</div>"
      ],
      "text/plain": [
       "   TRACKCNT_W49  WEIGHT_W49  SNSUSER_W49_Does not use social media  \\\n",
       "0           0.0    0.308756                                      1   \n",
       "1           2.0    0.417927                                      0   \n",
       "2           2.0    0.590463                                      0   \n",
       "3           2.0    0.393867                                      0   \n",
       "4           1.0    1.236273                                      0   \n",
       "\n",
       "   SNSUSER_W49_Social media user  HOMEASSIST1_W49_No  HOMEASSIST1_W49_Yes  \\\n",
       "0                              0                   1                    0   \n",
       "1                              1                   1                    0   \n",
       "2                              1                   0                    1   \n",
       "3                              1                   1                    0   \n",
       "4                              1                   1                    0   \n",
       "\n",
       "   F_ACSWEB_Accesses Internet by paying a cell phone company or Internet service provider  \\\n",
       "0                                                  1                                        \n",
       "1                                                  1                                        \n",
       "2                                                  1                                        \n",
       "3                                                  1                                        \n",
       "4                                                  1                                        \n",
       "\n",
       "   F_ACSWEB_Does not access the Internet by paying a cell phone company or Internet service provider  \\\n",
       "0                                                  0                                                   \n",
       "1                                                  0                                                   \n",
       "2                                                  0                                                   \n",
       "3                                                  0                                                   \n",
       "4                                                  0                                                   \n",
       "\n",
       "   FITTRACK_W49_No, do not wear this  FITTRACK_W49_Yes, wear this  ...  \\\n",
       "0                                  1                            0  ...   \n",
       "1                                  0                            1  ...   \n",
       "2                                  1                            0  ...   \n",
       "3                                  1                            0  ...   \n",
       "4                                  1                            0  ...   \n",
       "\n",
       "   F_INCOME_RECODE_<$30,000  F_METRO_Metropolitan  F_METRO_Non-metropolitan  \\\n",
       "0                         0                     1                         0   \n",
       "1                         0                     1                         0   \n",
       "2                         0                     1                         0   \n",
       "3                         0                     1                         0   \n",
       "4                         0                     1                         0   \n",
       "\n",
       "   F_SEX_Female  F_SEX_Male  F_EDUCCAT_College graduate+  \\\n",
       "0             0           1                            1   \n",
       "1             1           0                            0   \n",
       "2             1           0                            0   \n",
       "3             0           1                            0   \n",
       "4             0           1                            0   \n",
       "\n",
       "   F_EDUCCAT_H.S. graduate or less  F_EDUCCAT_Some College  F_MARITAL_Married  \\\n",
       "0                                0                       0                  0   \n",
       "1                                0                       1                  1   \n",
       "2                                0                       1                  1   \n",
       "3                                1                       0                  1   \n",
       "4                                1                       0                  0   \n",
       "\n",
       "   F_MARITAL_Not married  \n",
       "0                      1  \n",
       "1                      0  \n",
       "2                      0  \n",
       "3                      0  \n",
       "4                      1  \n",
       "\n",
       "[5 rows x 38 columns]"
      ]
     },
     "execution_count": 818,
     "metadata": {},
     "output_type": "execute_result"
    }
   ],
   "source": [
    "#checking the features\n",
    "data.head()"
   ]
  },
  {
   "cell_type": "code",
   "execution_count": 819,
   "metadata": {},
   "outputs": [],
   "source": [
    "# creating an array for the target variable\n",
    "y = np.array(y)\n",
    "features= data\n",
    "# Saving feature names for later use\n",
    "feature_list = list(features.columns)\n",
    "# Converting to numpy array\n",
    "features = np.array(features)"
   ]
  },
  {
   "cell_type": "code",
   "execution_count": 820,
   "metadata": {},
   "outputs": [
    {
     "data": {
      "text/plain": [
       "['TRACKCNT_W49',\n",
       " 'WEIGHT_W49',\n",
       " 'SNSUSER_W49_Does not use social media',\n",
       " 'SNSUSER_W49_Social media user',\n",
       " 'HOMEASSIST1_W49_No',\n",
       " 'HOMEASSIST1_W49_Yes',\n",
       " 'F_ACSWEB_Accesses Internet by paying a cell phone company or Internet service provider',\n",
       " 'F_ACSWEB_Does not access the Internet by paying a cell phone company or Internet service provider',\n",
       " 'FITTRACK_W49_No, do not wear this',\n",
       " 'FITTRACK_W49_Yes, wear this',\n",
       " 'SMARTPHONE_W49_No',\n",
       " 'SMARTPHONE_W49_Yes',\n",
       " 'F_VOLSUM_No',\n",
       " 'F_VOLSUM_Yes',\n",
       " 'LOYALTY_W49_No, do not belong to this',\n",
       " 'LOYALTY_W49_Yes, belong to this',\n",
       " 'HOMEIOT_W49_No',\n",
       " 'HOMEIOT_W49_Yes',\n",
       " 'F_CREGION_Midwest',\n",
       " 'F_CREGION_Northeast',\n",
       " 'F_CREGION_South',\n",
       " 'F_CREGION_West',\n",
       " 'F_AGECAT_18-29',\n",
       " 'F_AGECAT_30-49',\n",
       " 'F_AGECAT_50-64',\n",
       " 'F_AGECAT_65+',\n",
       " 'F_INCOME_RECODE_$30-$74,999',\n",
       " 'F_INCOME_RECODE_$75,000+',\n",
       " 'F_INCOME_RECODE_<$30,000',\n",
       " 'F_METRO_Metropolitan',\n",
       " 'F_METRO_Non-metropolitan',\n",
       " 'F_SEX_Female',\n",
       " 'F_SEX_Male',\n",
       " 'F_EDUCCAT_College graduate+',\n",
       " 'F_EDUCCAT_H.S. graduate or less',\n",
       " 'F_EDUCCAT_Some College',\n",
       " 'F_MARITAL_Married',\n",
       " 'F_MARITAL_Not married']"
      ]
     },
     "execution_count": 820,
     "metadata": {},
     "output_type": "execute_result"
    }
   ],
   "source": [
    "#feature information and weighting variable\n",
    "feature_list"
   ]
  },
  {
   "cell_type": "code",
   "execution_count": 236,
   "metadata": {},
   "outputs": [],
   "source": [
    "#trying a few algorithms before working with the neural network. "
   ]
  },
  {
   "cell_type": "markdown",
   "metadata": {},
   "source": [
    "Extreme Gradient Boosting Classifier "
   ]
  },
  {
   "cell_type": "code",
   "execution_count": 821,
   "metadata": {},
   "outputs": [],
   "source": [
    "#using standard scaler to scale the data before using the algorithms\n",
    "from sklearn.preprocessing import StandardScaler\n",
    "sc = StandardScaler()\n",
    "X = sc.fit_transform(features)"
   ]
  },
  {
   "cell_type": "code",
   "execution_count": 824,
   "metadata": {},
   "outputs": [],
   "source": [
    "#loading the needed libraries\n",
    "from numpy import loadtxt\n",
    "from xgboost import XGBClassifier\n",
    "from sklearn.model_selection import train_test_split\n",
    "from sklearn.metrics import accuracy_score"
   ]
  },
  {
   "cell_type": "code",
   "execution_count": 825,
   "metadata": {},
   "outputs": [
    {
     "name": "stdout",
     "output_type": "stream",
     "text": [
      "Accuracy: 54.07%\n"
     ]
    }
   ],
   "source": [
    "#building XGBoost model\n",
    "seed = 4\n",
    "test_size = 0.3\n",
    "X_train, X_test, y_train, y_test = train_test_split(X, y, test_size=test_size, random_state=seed)\n",
    "\n",
    "# fit model no training data\n",
    "model = XGBClassifier()\n",
    "model.fit(X_train, y_train)\n",
    "\n",
    "# make predictions for test data\n",
    "y_pred = model.predict(X_test)\n",
    "predictions = [round(value) for value in y_pred]\n",
    "accuracy = accuracy_score(y_test, predictions)\n",
    "print(\"Accuracy: %.2f%%\" % (accuracy * 100.0))\n"
   ]
  },
  {
   "cell_type": "code",
   "execution_count": 827,
   "metadata": {},
   "outputs": [
    {
     "data": {
      "text/plain": [
       "({'max_depth': 3, 'min_child_weight': 1}, 0.5485993907576641)"
      ]
     },
     "execution_count": 827,
     "metadata": {},
     "output_type": "execute_result"
    }
   ],
   "source": [
    "#tuning hyperparameters\n",
    "from sklearn.model_selection import GridSearchCV\n",
    "param_test1 = {\n",
    " 'max_depth':range(3,10,2),\n",
    " 'min_child_weight':range(1,6,2)\n",
    "}\n",
    "gsearch1 = GridSearchCV(estimator = XGBClassifier( learning_rate =0.1, n_estimators=140, max_depth=5,\n",
    " min_child_weight=1, gamma=0, subsample=0.8, colsample_bytree=0.8,\n",
    " objective= 'binary:logistic', nthread=4, scale_pos_weight=1, seed=27), \n",
    " param_grid = param_test1, scoring='accuracy',n_jobs=4,iid=False, cv=5)\n",
    "gsearch1.fit(X_train,y_train)\n",
    "gsearch1.best_params_, gsearch1.best_score_\n"
   ]
  },
  {
   "cell_type": "code",
   "execution_count": 828,
   "metadata": {},
   "outputs": [
    {
     "name": "stdout",
     "output_type": "stream",
     "text": [
      "Accuracy: 57.63%\n"
     ]
    }
   ],
   "source": [
    "#adding new parameters\n",
    "seed = 4\n",
    "test_size = 0.33\n",
    "X_train, X_test, y_train, y_test = train_test_split(X, y, test_size=test_size, random_state=seed)\n",
    "# fit model no training data\n",
    "model = XGBClassifier(max_depth= 3,min_child_weight= 1 )\n",
    "model.fit(X_train, y_train)\n",
    "# make predictions for test data\n",
    "y_pred = model.predict(X_test)\n",
    "predictions = [round(value) for value in y_pred]\n",
    "accuracy = accuracy_score(y_test, predictions)\n",
    "print(\"Accuracy: %.2f%%\" % (accuracy * 100.0))\n"
   ]
  },
  {
   "cell_type": "code",
   "execution_count": 829,
   "metadata": {},
   "outputs": [
    {
     "name": "stdout",
     "output_type": "stream",
     "text": [
      "              precision    recall  f1-score   support\n",
      "\n",
      "           0       0.56      0.50      0.53       621\n",
      "           1       0.59      0.64      0.61       689\n",
      "\n",
      "    accuracy                           0.58      1310\n",
      "   macro avg       0.57      0.57      0.57      1310\n",
      "weighted avg       0.57      0.58      0.57      1310\n",
      "\n"
     ]
    }
   ],
   "source": [
    "#printing classification report\n",
    "print(classification_report(y_test, predictions))"
   ]
  },
  {
   "cell_type": "code",
   "execution_count": 830,
   "metadata": {},
   "outputs": [
    {
     "name": "stdout",
     "output_type": "stream",
     "text": [
      "[[312 309]\n",
      " [246 443]]\n"
     ]
    }
   ],
   "source": [
    "#confusion matrix\n",
    "from sklearn.metrics import confusion_matrix\n",
    "cm = confusion_matrix(y_test, y_pred)\n",
    "print(cm)"
   ]
  },
  {
   "cell_type": "markdown",
   "metadata": {},
   "source": [
    "The accuracy is not high. What is more important, the recall is at 64%"
   ]
  },
  {
   "cell_type": "markdown",
   "metadata": {},
   "source": [
    "Random Forests"
   ]
  },
  {
   "cell_type": "code",
   "execution_count": 831,
   "metadata": {},
   "outputs": [
    {
     "data": {
      "text/plain": [
       "0.5404383975812547"
      ]
     },
     "execution_count": 831,
     "metadata": {},
     "output_type": "execute_result"
    }
   ],
   "source": [
    "#crossvalidating the Random Forests Model\n",
    "import numpy as np\n",
    "from sklearn.model_selection import cross_val_score, cross_val_predict\n",
    "from sklearn import metrics\n",
    "from sklearn.pipeline import make_pipeline\n",
    "from sklearn.preprocessing import StandardScaler\n",
    "from sklearn import preprocessing\n",
    "from sklearn.ensemble import RandomForestClassifier\n",
    "mod = make_pipeline(preprocessing.StandardScaler(), RandomForestClassifier(random_state=4))\n",
    "np.mean(cross_val_score(mod, features, y, cv=7))"
   ]
  },
  {
   "cell_type": "code",
   "execution_count": 832,
   "metadata": {},
   "outputs": [],
   "source": [
    "#creating a model\n",
    "from sklearn.model_selection import train_test_split\n",
    "seed = 4\n",
    "test_size = 0.3\n",
    "X_train, X_test, y_train, y_test = train_test_split(X, y, test_size=test_size, random_state=seed)\n",
    "forest = RandomForestClassifier(random_state = seed)\n",
    "modelF = forest.fit(X_train, y_train)"
   ]
  },
  {
   "cell_type": "code",
   "execution_count": 833,
   "metadata": {},
   "outputs": [
    {
     "name": "stdout",
     "output_type": "stream",
     "text": [
      "Fitting 6 folds for each of 500 candidates, totalling 3000 fits\n"
     ]
    },
    {
     "name": "stderr",
     "output_type": "stream",
     "text": [
      "[Parallel(n_jobs=-1)]: Using backend LokyBackend with 12 concurrent workers.\n",
      "[Parallel(n_jobs=-1)]: Done  26 tasks      | elapsed:    5.0s\n",
      "[Parallel(n_jobs=-1)]: Done 176 tasks      | elapsed:   30.4s\n",
      "[Parallel(n_jobs=-1)]: Done 426 tasks      | elapsed:  1.3min\n",
      "[Parallel(n_jobs=-1)]: Done 776 tasks      | elapsed:  2.4min\n",
      "[Parallel(n_jobs=-1)]: Done 1226 tasks      | elapsed:  4.0min\n",
      "[Parallel(n_jobs=-1)]: Done 1776 tasks      | elapsed:  6.2min\n",
      "[Parallel(n_jobs=-1)]: Done 2426 tasks      | elapsed:  8.8min\n",
      "[Parallel(n_jobs=-1)]: Done 3000 out of 3000 | elapsed: 11.1min finished\n"
     ]
    }
   ],
   "source": [
    "#hyperparameter tuning\n",
    "n_estimators = [100, 300, 500, 800, 1200]\n",
    "max_depth = [5, 8, 15, 25, 30]\n",
    "min_samples_split = [2, 5, 10, 15, 100]\n",
    "min_samples_leaf = [1, 2, 5, 10] \n",
    "\n",
    "hyperF = dict(n_estimators = n_estimators, max_depth = max_depth,  \n",
    "              min_samples_split = min_samples_split, \n",
    "             min_samples_leaf = min_samples_leaf)\n",
    "\n",
    "gridF = GridSearchCV(forest, hyperF, cv = 6, verbose = 1, \n",
    "                      n_jobs = -1)\n",
    "bestF = gridF.fit(X_train, y_train)"
   ]
  },
  {
   "cell_type": "code",
   "execution_count": 834,
   "metadata": {},
   "outputs": [
    {
     "data": {
      "text/plain": [
       "{'max_depth': 15,\n",
       " 'min_samples_leaf': 1,\n",
       " 'min_samples_split': 100,\n",
       " 'n_estimators': 1200}"
      ]
     },
     "execution_count": 834,
     "metadata": {},
     "output_type": "execute_result"
    }
   ],
   "source": [
    "bestF.best_params_"
   ]
  },
  {
   "cell_type": "code",
   "execution_count": 835,
   "metadata": {},
   "outputs": [],
   "source": [
    "#creating a new model\n",
    "forest = RandomForestClassifier(random_state = 1, max_depth = 15, min_samples_leaf = 1, min_samples_split = 100, n_estimators = 1200)\n",
    "modelF = forest.fit(X_train, y_train)\n",
    "y_predF = modelF.predict(X_test)"
   ]
  },
  {
   "cell_type": "code",
   "execution_count": 836,
   "metadata": {},
   "outputs": [
    {
     "name": "stdout",
     "output_type": "stream",
     "text": [
      "              precision    recall  f1-score   support\n",
      "\n",
      "           0       0.54      0.50      0.52       553\n",
      "           1       0.59      0.64      0.61       638\n",
      "\n",
      "    accuracy                           0.57      1191\n",
      "   macro avg       0.57      0.57      0.57      1191\n",
      "weighted avg       0.57      0.57      0.57      1191\n",
      "\n"
     ]
    }
   ],
   "source": [
    "#creating a classification report\n",
    "from sklearn.metrics import classification_report\n",
    "print(classification_report(y_test, y_predF))"
   ]
  },
  {
   "cell_type": "code",
   "execution_count": 838,
   "metadata": {},
   "outputs": [
    {
     "name": "stdout",
     "output_type": "stream",
     "text": [
      "[[276 277]\n",
      " [232 406]]\n"
     ]
    }
   ],
   "source": [
    "#creating a confusion matrix\n",
    "from sklearn.metrics import confusion_matrix\n",
    "cm = confusion_matrix(y_test, y_predF)\n",
    "print(cm)"
   ]
  },
  {
   "cell_type": "markdown",
   "metadata": {},
   "source": [
    "The accuracy is not high. What is more important, the recall is at 64% (similar to XGBoost algorithm.)"
   ]
  },
  {
   "cell_type": "markdown",
   "metadata": {},
   "source": [
    "Logistic Regression"
   ]
  },
  {
   "cell_type": "code",
   "execution_count": 839,
   "metadata": {},
   "outputs": [
    {
     "data": {
      "text/plain": [
       "0.5729387101541349"
      ]
     },
     "execution_count": 839,
     "metadata": {},
     "output_type": "execute_result"
    }
   ],
   "source": [
    "#performance of the logistic regression is poor\n",
    "import numpy as np\n",
    "from sklearn.model_selection import cross_val_score, cross_val_predict\n",
    "from sklearn import metrics\n",
    "from sklearn.linear_model import LogisticRegression\n",
    "from sklearn.pipeline import make_pipeline\n",
    "from sklearn.preprocessing import StandardScaler\n",
    "from sklearn import preprocessing\n",
    "mod3 = make_pipeline(preprocessing.StandardScaler(), LogisticRegression(random_state=4))\n",
    "np.mean(cross_val_score(mod3, features, y, cv=6))"
   ]
  },
  {
   "cell_type": "code",
   "execution_count": 843,
   "metadata": {},
   "outputs": [],
   "source": [
    "#creating a logisic regression model\n",
    "seed = 4\n",
    "test_size = 0.3\n",
    "X_train, X_test, y_train, y_test = train_test_split(X, y, test_size=test_size, random_state=seed)\n",
    "lr = LogisticRegression(random_state=seed)\n",
    "modeL = lr.fit(X_train, y_train)\n",
    "y_predF = modeL.predict(X_test)"
   ]
  },
  {
   "cell_type": "code",
   "execution_count": 844,
   "metadata": {},
   "outputs": [
    {
     "name": "stdout",
     "output_type": "stream",
     "text": [
      "Best: 0.565875 using {'C': 1.0, 'penalty': 'l2'}\n"
     ]
    }
   ],
   "source": [
    "# hyperparameter tuning\n",
    "penalty = ['l1', 'l2']\n",
    "# Create regularization hyperparameter space\n",
    "C = np.logspace(0, 4, 10)\n",
    "# Create hyperparameter options\n",
    "param_grid = dict(C=C, penalty=penalty)\n",
    "grid = GridSearchCV(estimator=lr, param_grid=param_grid)\n",
    "grid_result = grid.fit(X_train, y_train)\n",
    "# Summarize results\n",
    "print(\"Best: %f using %s\" % (grid_result.best_score_, grid_result.best_params_))"
   ]
  },
  {
   "cell_type": "code",
   "execution_count": 846,
   "metadata": {},
   "outputs": [
    {
     "name": "stdout",
     "output_type": "stream",
     "text": [
      "              precision    recall  f1-score   support\n",
      "\n",
      "           0       0.54      0.48      0.51       612\n",
      "           1       0.58      0.64      0.61       698\n",
      "\n",
      "    accuracy                           0.56      1310\n",
      "   macro avg       0.56      0.56      0.56      1310\n",
      "weighted avg       0.56      0.56      0.56      1310\n",
      "\n"
     ]
    }
   ],
   "source": [
    "#new model and classification report\n",
    "from sklearn.model_selection import train_test_split\n",
    "seed = 4\n",
    "test_size = 0.33\n",
    "sc = StandardScaler()\n",
    "X = sc.fit_transform(features)\n",
    "X_train, X_test, y_train, y_test = train_test_split(X, y, test_size=test_size, random_state=seed)\n",
    "lr = LogisticRegression(random_state=seed, C= 1.0, penalty = 'l2')\n",
    "modeL = lr.fit(X_train, y_train)\n",
    "y_predL = modeL.predict(X_test)\n",
    "from sklearn.metrics import classification_report\n",
    "print(classification_report(y_test, y_predL))"
   ]
  },
  {
   "cell_type": "code",
   "execution_count": 847,
   "metadata": {},
   "outputs": [
    {
     "name": "stdout",
     "output_type": "stream",
     "text": [
      "[[293 319]\n",
      " [253 445]]\n"
     ]
    }
   ],
   "source": [
    "#confusion matrix\n",
    "from sklearn.metrics import confusion_matrix\n",
    "cm = confusion_matrix(y_test, y_predL)\n",
    "print(cm)"
   ]
  },
  {
   "cell_type": "markdown",
   "metadata": {},
   "source": [
    "The accuracy is not high. What is more important, the recall is at 64% (Similar to XGBoost and Random Forests algorithms)"
   ]
  },
  {
   "cell_type": "markdown",
   "metadata": {},
   "source": [
    "Support Vector Clustering Algorithm"
   ]
  },
  {
   "cell_type": "code",
   "execution_count": 848,
   "metadata": {},
   "outputs": [
    {
     "data": {
      "text/plain": [
       "0.553279918582879"
      ]
     },
     "execution_count": 848,
     "metadata": {},
     "output_type": "execute_result"
    }
   ],
   "source": [
    "#crossvalidating support vector clustering algorithm\n",
    "from sklearn import svm\n",
    "clf = make_pipeline(preprocessing.StandardScaler(), svm.SVC(kernel='linear', random_state = 4))\n",
    "np.mean(cross_val_score(clf, features, y, cv=6))"
   ]
  },
  {
   "cell_type": "code",
   "execution_count": 849,
   "metadata": {},
   "outputs": [],
   "source": [
    "#parameters\n",
    "param_grid = {'C':[0.1, 1, 10, 100, 1000], 'gamma':[1.0, 0.1, 0.01,0.001, 0.0001 ], 'kernel':['rbf', 'linear'] }"
   ]
  },
  {
   "cell_type": "code",
   "execution_count": 850,
   "metadata": {},
   "outputs": [
    {
     "name": "stdout",
     "output_type": "stream",
     "text": [
      "Fitting 5 folds for each of 50 candidates, totalling 250 fits\n",
      "[CV] C=0.1, gamma=1.0, kernel=rbf ....................................\n"
     ]
    },
    {
     "name": "stderr",
     "output_type": "stream",
     "text": [
      "[Parallel(n_jobs=1)]: Using backend SequentialBackend with 1 concurrent workers.\n"
     ]
    },
    {
     "name": "stdout",
     "output_type": "stream",
     "text": [
      "[CV] ........ C=0.1, gamma=1.0, kernel=rbf, score=0.521, total=   0.3s\n",
      "[CV] C=0.1, gamma=1.0, kernel=rbf ....................................\n"
     ]
    },
    {
     "name": "stderr",
     "output_type": "stream",
     "text": [
      "[Parallel(n_jobs=1)]: Done   1 out of   1 | elapsed:    0.2s remaining:    0.0s\n"
     ]
    },
    {
     "name": "stdout",
     "output_type": "stream",
     "text": [
      "[CV] ........ C=0.1, gamma=1.0, kernel=rbf, score=0.523, total=   0.3s\n",
      "[CV] C=0.1, gamma=1.0, kernel=rbf ....................................\n"
     ]
    },
    {
     "name": "stderr",
     "output_type": "stream",
     "text": [
      "[Parallel(n_jobs=1)]: Done   2 out of   2 | elapsed:    0.5s remaining:    0.0s\n"
     ]
    },
    {
     "name": "stdout",
     "output_type": "stream",
     "text": [
      "[CV] ........ C=0.1, gamma=1.0, kernel=rbf, score=0.523, total=   0.3s\n",
      "[CV] C=0.1, gamma=1.0, kernel=rbf ....................................\n",
      "[CV] ........ C=0.1, gamma=1.0, kernel=rbf, score=0.523, total=   0.3s\n",
      "[CV] C=0.1, gamma=1.0, kernel=rbf ....................................\n",
      "[CV] ........ C=0.1, gamma=1.0, kernel=rbf, score=0.522, total=   0.3s\n",
      "[CV] C=0.1, gamma=1.0, kernel=linear .................................\n",
      "[CV] ..... C=0.1, gamma=1.0, kernel=linear, score=0.562, total=   0.2s\n",
      "[CV] C=0.1, gamma=1.0, kernel=linear .................................\n",
      "[CV] ..... C=0.1, gamma=1.0, kernel=linear, score=0.555, total=   0.2s\n",
      "[CV] C=0.1, gamma=1.0, kernel=linear .................................\n",
      "[CV] ..... C=0.1, gamma=1.0, kernel=linear, score=0.577, total=   0.2s\n",
      "[CV] C=0.1, gamma=1.0, kernel=linear .................................\n",
      "[CV] ..... C=0.1, gamma=1.0, kernel=linear, score=0.558, total=   0.2s\n",
      "[CV] C=0.1, gamma=1.0, kernel=linear .................................\n",
      "[CV] ..... C=0.1, gamma=1.0, kernel=linear, score=0.527, total=   0.2s\n",
      "[CV] C=0.1, gamma=0.1, kernel=rbf ....................................\n",
      "[CV] ........ C=0.1, gamma=0.1, kernel=rbf, score=0.521, total=   0.3s\n",
      "[CV] C=0.1, gamma=0.1, kernel=rbf ....................................\n",
      "[CV] ........ C=0.1, gamma=0.1, kernel=rbf, score=0.523, total=   0.3s\n",
      "[CV] C=0.1, gamma=0.1, kernel=rbf ....................................\n",
      "[CV] ........ C=0.1, gamma=0.1, kernel=rbf, score=0.523, total=   0.3s\n",
      "[CV] C=0.1, gamma=0.1, kernel=rbf ....................................\n",
      "[CV] ........ C=0.1, gamma=0.1, kernel=rbf, score=0.523, total=   0.3s\n",
      "[CV] C=0.1, gamma=0.1, kernel=rbf ....................................\n",
      "[CV] ........ C=0.1, gamma=0.1, kernel=rbf, score=0.522, total=   0.3s\n",
      "[CV] C=0.1, gamma=0.1, kernel=linear .................................\n",
      "[CV] ..... C=0.1, gamma=0.1, kernel=linear, score=0.562, total=   0.2s\n",
      "[CV] C=0.1, gamma=0.1, kernel=linear .................................\n",
      "[CV] ..... C=0.1, gamma=0.1, kernel=linear, score=0.555, total=   0.2s\n",
      "[CV] C=0.1, gamma=0.1, kernel=linear .................................\n",
      "[CV] ..... C=0.1, gamma=0.1, kernel=linear, score=0.577, total=   0.2s\n",
      "[CV] C=0.1, gamma=0.1, kernel=linear .................................\n",
      "[CV] ..... C=0.1, gamma=0.1, kernel=linear, score=0.558, total=   0.2s\n",
      "[CV] C=0.1, gamma=0.1, kernel=linear .................................\n",
      "[CV] ..... C=0.1, gamma=0.1, kernel=linear, score=0.527, total=   0.2s\n",
      "[CV] C=0.1, gamma=0.01, kernel=rbf ...................................\n",
      "[CV] ....... C=0.1, gamma=0.01, kernel=rbf, score=0.545, total=   0.2s\n",
      "[CV] C=0.1, gamma=0.01, kernel=rbf ...................................\n",
      "[CV] ....... C=0.1, gamma=0.01, kernel=rbf, score=0.532, total=   0.2s\n",
      "[CV] C=0.1, gamma=0.01, kernel=rbf ...................................\n",
      "[CV] ....... C=0.1, gamma=0.01, kernel=rbf, score=0.570, total=   0.3s\n",
      "[CV] C=0.1, gamma=0.01, kernel=rbf ...................................\n",
      "[CV] ....... C=0.1, gamma=0.01, kernel=rbf, score=0.534, total=   0.3s\n",
      "[CV] C=0.1, gamma=0.01, kernel=rbf ...................................\n",
      "[CV] ....... C=0.1, gamma=0.01, kernel=rbf, score=0.561, total=   0.2s\n",
      "[CV] C=0.1, gamma=0.01, kernel=linear ................................\n",
      "[CV] .... C=0.1, gamma=0.01, kernel=linear, score=0.562, total=   0.2s\n",
      "[CV] C=0.1, gamma=0.01, kernel=linear ................................\n",
      "[CV] .... C=0.1, gamma=0.01, kernel=linear, score=0.555, total=   0.2s\n",
      "[CV] C=0.1, gamma=0.01, kernel=linear ................................\n",
      "[CV] .... C=0.1, gamma=0.01, kernel=linear, score=0.577, total=   0.2s\n",
      "[CV] C=0.1, gamma=0.01, kernel=linear ................................\n",
      "[CV] .... C=0.1, gamma=0.01, kernel=linear, score=0.558, total=   0.2s\n",
      "[CV] C=0.1, gamma=0.01, kernel=linear ................................\n",
      "[CV] .... C=0.1, gamma=0.01, kernel=linear, score=0.527, total=   0.2s\n",
      "[CV] C=0.1, gamma=0.001, kernel=rbf ..................................\n",
      "[CV] ...... C=0.1, gamma=0.001, kernel=rbf, score=0.521, total=   0.3s\n",
      "[CV] C=0.1, gamma=0.001, kernel=rbf ..................................\n",
      "[CV] ...... C=0.1, gamma=0.001, kernel=rbf, score=0.523, total=   0.3s\n",
      "[CV] C=0.1, gamma=0.001, kernel=rbf ..................................\n",
      "[CV] ...... C=0.1, gamma=0.001, kernel=rbf, score=0.523, total=   0.3s\n",
      "[CV] C=0.1, gamma=0.001, kernel=rbf ..................................\n",
      "[CV] ...... C=0.1, gamma=0.001, kernel=rbf, score=0.523, total=   0.3s\n",
      "[CV] C=0.1, gamma=0.001, kernel=rbf ..................................\n",
      "[CV] ...... C=0.1, gamma=0.001, kernel=rbf, score=0.522, total=   0.3s\n",
      "[CV] C=0.1, gamma=0.001, kernel=linear ...............................\n",
      "[CV] ... C=0.1, gamma=0.001, kernel=linear, score=0.562, total=   0.2s\n",
      "[CV] C=0.1, gamma=0.001, kernel=linear ...............................\n",
      "[CV] ... C=0.1, gamma=0.001, kernel=linear, score=0.555, total=   0.2s\n",
      "[CV] C=0.1, gamma=0.001, kernel=linear ...............................\n",
      "[CV] ... C=0.1, gamma=0.001, kernel=linear, score=0.577, total=   0.2s\n",
      "[CV] C=0.1, gamma=0.001, kernel=linear ...............................\n",
      "[CV] ... C=0.1, gamma=0.001, kernel=linear, score=0.558, total=   0.2s\n",
      "[CV] C=0.1, gamma=0.001, kernel=linear ...............................\n",
      "[CV] ... C=0.1, gamma=0.001, kernel=linear, score=0.527, total=   0.2s\n",
      "[CV] C=0.1, gamma=0.0001, kernel=rbf .................................\n",
      "[CV] ..... C=0.1, gamma=0.0001, kernel=rbf, score=0.521, total=   0.3s\n",
      "[CV] C=0.1, gamma=0.0001, kernel=rbf .................................\n",
      "[CV] ..... C=0.1, gamma=0.0001, kernel=rbf, score=0.523, total=   0.3s\n",
      "[CV] C=0.1, gamma=0.0001, kernel=rbf .................................\n",
      "[CV] ..... C=0.1, gamma=0.0001, kernel=rbf, score=0.523, total=   0.3s\n",
      "[CV] C=0.1, gamma=0.0001, kernel=rbf .................................\n",
      "[CV] ..... C=0.1, gamma=0.0001, kernel=rbf, score=0.523, total=   0.3s\n",
      "[CV] C=0.1, gamma=0.0001, kernel=rbf .................................\n",
      "[CV] ..... C=0.1, gamma=0.0001, kernel=rbf, score=0.522, total=   0.3s\n",
      "[CV] C=0.1, gamma=0.0001, kernel=linear ..............................\n",
      "[CV] .. C=0.1, gamma=0.0001, kernel=linear, score=0.562, total=   0.2s\n",
      "[CV] C=0.1, gamma=0.0001, kernel=linear ..............................\n",
      "[CV] .. C=0.1, gamma=0.0001, kernel=linear, score=0.555, total=   0.2s\n",
      "[CV] C=0.1, gamma=0.0001, kernel=linear ..............................\n",
      "[CV] .. C=0.1, gamma=0.0001, kernel=linear, score=0.577, total=   0.2s\n",
      "[CV] C=0.1, gamma=0.0001, kernel=linear ..............................\n",
      "[CV] .. C=0.1, gamma=0.0001, kernel=linear, score=0.558, total=   0.2s\n",
      "[CV] C=0.1, gamma=0.0001, kernel=linear ..............................\n",
      "[CV] .. C=0.1, gamma=0.0001, kernel=linear, score=0.527, total=   0.2s\n",
      "[CV] C=1, gamma=1.0, kernel=rbf ......................................\n",
      "[CV] .......... C=1, gamma=1.0, kernel=rbf, score=0.521, total=   0.3s\n",
      "[CV] C=1, gamma=1.0, kernel=rbf ......................................\n",
      "[CV] .......... C=1, gamma=1.0, kernel=rbf, score=0.536, total=   0.3s\n",
      "[CV] C=1, gamma=1.0, kernel=rbf ......................................\n",
      "[CV] .......... C=1, gamma=1.0, kernel=rbf, score=0.545, total=   0.3s\n",
      "[CV] C=1, gamma=1.0, kernel=rbf ......................................\n",
      "[CV] .......... C=1, gamma=1.0, kernel=rbf, score=0.515, total=   0.3s\n",
      "[CV] C=1, gamma=1.0, kernel=rbf ......................................\n",
      "[CV] .......... C=1, gamma=1.0, kernel=rbf, score=0.490, total=   0.3s\n",
      "[CV] C=1, gamma=1.0, kernel=linear ...................................\n",
      "[CV] ....... C=1, gamma=1.0, kernel=linear, score=0.558, total=   0.3s\n",
      "[CV] C=1, gamma=1.0, kernel=linear ...................................\n",
      "[CV] ....... C=1, gamma=1.0, kernel=linear, score=0.555, total=   0.3s\n",
      "[CV] C=1, gamma=1.0, kernel=linear ...................................\n",
      "[CV] ....... C=1, gamma=1.0, kernel=linear, score=0.577, total=   0.3s\n",
      "[CV] C=1, gamma=1.0, kernel=linear ...................................\n",
      "[CV] ....... C=1, gamma=1.0, kernel=linear, score=0.564, total=   0.3s\n",
      "[CV] C=1, gamma=1.0, kernel=linear ...................................\n",
      "[CV] ....... C=1, gamma=1.0, kernel=linear, score=0.527, total=   0.3s\n",
      "[CV] C=1, gamma=0.1, kernel=rbf ......................................\n"
     ]
    },
    {
     "name": "stdout",
     "output_type": "stream",
     "text": [
      "[CV] .......... C=1, gamma=0.1, kernel=rbf, score=0.524, total=   0.3s\n",
      "[CV] C=1, gamma=0.1, kernel=rbf ......................................\n",
      "[CV] .......... C=1, gamma=0.1, kernel=rbf, score=0.549, total=   0.3s\n",
      "[CV] C=1, gamma=0.1, kernel=rbf ......................................\n",
      "[CV] .......... C=1, gamma=0.1, kernel=rbf, score=0.556, total=   0.3s\n",
      "[CV] C=1, gamma=0.1, kernel=rbf ......................................\n",
      "[CV] .......... C=1, gamma=0.1, kernel=rbf, score=0.575, total=   0.3s\n",
      "[CV] C=1, gamma=0.1, kernel=rbf ......................................\n",
      "[CV] .......... C=1, gamma=0.1, kernel=rbf, score=0.508, total=   0.3s\n",
      "[CV] C=1, gamma=0.1, kernel=linear ...................................\n",
      "[CV] ....... C=1, gamma=0.1, kernel=linear, score=0.558, total=   0.3s\n",
      "[CV] C=1, gamma=0.1, kernel=linear ...................................\n",
      "[CV] ....... C=1, gamma=0.1, kernel=linear, score=0.555, total=   0.3s\n",
      "[CV] C=1, gamma=0.1, kernel=linear ...................................\n",
      "[CV] ....... C=1, gamma=0.1, kernel=linear, score=0.577, total=   0.3s\n",
      "[CV] C=1, gamma=0.1, kernel=linear ...................................\n",
      "[CV] ....... C=1, gamma=0.1, kernel=linear, score=0.564, total=   0.3s\n",
      "[CV] C=1, gamma=0.1, kernel=linear ...................................\n",
      "[CV] ....... C=1, gamma=0.1, kernel=linear, score=0.527, total=   0.3s\n",
      "[CV] C=1, gamma=0.01, kernel=rbf .....................................\n",
      "[CV] ......... C=1, gamma=0.01, kernel=rbf, score=0.555, total=   0.2s\n",
      "[CV] C=1, gamma=0.01, kernel=rbf .....................................\n",
      "[CV] ......... C=1, gamma=0.01, kernel=rbf, score=0.555, total=   0.2s\n",
      "[CV] C=1, gamma=0.01, kernel=rbf .....................................\n",
      "[CV] ......... C=1, gamma=0.01, kernel=rbf, score=0.573, total=   0.2s\n",
      "[CV] C=1, gamma=0.01, kernel=rbf .....................................\n",
      "[CV] ......... C=1, gamma=0.01, kernel=rbf, score=0.575, total=   0.2s\n",
      "[CV] C=1, gamma=0.01, kernel=rbf .....................................\n",
      "[CV] ......... C=1, gamma=0.01, kernel=rbf, score=0.589, total=   0.2s\n",
      "[CV] C=1, gamma=0.01, kernel=linear ..................................\n",
      "[CV] ...... C=1, gamma=0.01, kernel=linear, score=0.558, total=   0.3s\n",
      "[CV] C=1, gamma=0.01, kernel=linear ..................................\n",
      "[CV] ...... C=1, gamma=0.01, kernel=linear, score=0.555, total=   0.3s\n",
      "[CV] C=1, gamma=0.01, kernel=linear ..................................\n",
      "[CV] ...... C=1, gamma=0.01, kernel=linear, score=0.577, total=   0.3s\n",
      "[CV] C=1, gamma=0.01, kernel=linear ..................................\n",
      "[CV] ...... C=1, gamma=0.01, kernel=linear, score=0.564, total=   0.3s\n",
      "[CV] C=1, gamma=0.01, kernel=linear ..................................\n",
      "[CV] ...... C=1, gamma=0.01, kernel=linear, score=0.527, total=   0.3s\n",
      "[CV] C=1, gamma=0.001, kernel=rbf ....................................\n",
      "[CV] ........ C=1, gamma=0.001, kernel=rbf, score=0.564, total=   0.2s\n",
      "[CV] C=1, gamma=0.001, kernel=rbf ....................................\n",
      "[CV] ........ C=1, gamma=0.001, kernel=rbf, score=0.545, total=   0.2s\n",
      "[CV] C=1, gamma=0.001, kernel=rbf ....................................\n",
      "[CV] ........ C=1, gamma=0.001, kernel=rbf, score=0.586, total=   0.2s\n",
      "[CV] C=1, gamma=0.001, kernel=rbf ....................................\n",
      "[CV] ........ C=1, gamma=0.001, kernel=rbf, score=0.566, total=   0.2s\n",
      "[CV] C=1, gamma=0.001, kernel=rbf ....................................\n",
      "[CV] ........ C=1, gamma=0.001, kernel=rbf, score=0.573, total=   0.2s\n",
      "[CV] C=1, gamma=0.001, kernel=linear .................................\n",
      "[CV] ..... C=1, gamma=0.001, kernel=linear, score=0.558, total=   0.3s\n",
      "[CV] C=1, gamma=0.001, kernel=linear .................................\n",
      "[CV] ..... C=1, gamma=0.001, kernel=linear, score=0.555, total=   0.3s\n",
      "[CV] C=1, gamma=0.001, kernel=linear .................................\n",
      "[CV] ..... C=1, gamma=0.001, kernel=linear, score=0.577, total=   0.3s\n",
      "[CV] C=1, gamma=0.001, kernel=linear .................................\n",
      "[CV] ..... C=1, gamma=0.001, kernel=linear, score=0.564, total=   0.3s\n",
      "[CV] C=1, gamma=0.001, kernel=linear .................................\n",
      "[CV] ..... C=1, gamma=0.001, kernel=linear, score=0.527, total=   0.3s\n",
      "[CV] C=1, gamma=0.0001, kernel=rbf ...................................\n",
      "[CV] ....... C=1, gamma=0.0001, kernel=rbf, score=0.521, total=   0.3s\n",
      "[CV] C=1, gamma=0.0001, kernel=rbf ...................................\n",
      "[CV] ....... C=1, gamma=0.0001, kernel=rbf, score=0.523, total=   0.3s\n",
      "[CV] C=1, gamma=0.0001, kernel=rbf ...................................\n",
      "[CV] ....... C=1, gamma=0.0001, kernel=rbf, score=0.523, total=   0.3s\n",
      "[CV] C=1, gamma=0.0001, kernel=rbf ...................................\n",
      "[CV] ....... C=1, gamma=0.0001, kernel=rbf, score=0.523, total=   0.3s\n",
      "[CV] C=1, gamma=0.0001, kernel=rbf ...................................\n",
      "[CV] ....... C=1, gamma=0.0001, kernel=rbf, score=0.522, total=   0.3s\n",
      "[CV] C=1, gamma=0.0001, kernel=linear ................................\n",
      "[CV] .... C=1, gamma=0.0001, kernel=linear, score=0.558, total=   0.3s\n",
      "[CV] C=1, gamma=0.0001, kernel=linear ................................\n",
      "[CV] .... C=1, gamma=0.0001, kernel=linear, score=0.555, total=   0.3s\n",
      "[CV] C=1, gamma=0.0001, kernel=linear ................................\n",
      "[CV] .... C=1, gamma=0.0001, kernel=linear, score=0.577, total=   0.3s\n",
      "[CV] C=1, gamma=0.0001, kernel=linear ................................\n",
      "[CV] .... C=1, gamma=0.0001, kernel=linear, score=0.564, total=   0.3s\n",
      "[CV] C=1, gamma=0.0001, kernel=linear ................................\n",
      "[CV] .... C=1, gamma=0.0001, kernel=linear, score=0.527, total=   0.3s\n",
      "[CV] C=10, gamma=1.0, kernel=rbf .....................................\n",
      "[CV] ......... C=10, gamma=1.0, kernel=rbf, score=0.519, total=   0.3s\n",
      "[CV] C=10, gamma=1.0, kernel=rbf .....................................\n",
      "[CV] ......... C=10, gamma=1.0, kernel=rbf, score=0.538, total=   0.3s\n",
      "[CV] C=10, gamma=1.0, kernel=rbf .....................................\n",
      "[CV] ......... C=10, gamma=1.0, kernel=rbf, score=0.539, total=   0.3s\n",
      "[CV] C=10, gamma=1.0, kernel=rbf .....................................\n",
      "[CV] ......... C=10, gamma=1.0, kernel=rbf, score=0.517, total=   0.3s\n",
      "[CV] C=10, gamma=1.0, kernel=rbf .....................................\n",
      "[CV] ......... C=10, gamma=1.0, kernel=rbf, score=0.488, total=   0.3s\n",
      "[CV] C=10, gamma=1.0, kernel=linear ..................................\n",
      "[CV] ...... C=10, gamma=1.0, kernel=linear, score=0.558, total=   1.2s\n",
      "[CV] C=10, gamma=1.0, kernel=linear ..................................\n",
      "[CV] ...... C=10, gamma=1.0, kernel=linear, score=0.555, total=   1.2s\n",
      "[CV] C=10, gamma=1.0, kernel=linear ..................................\n",
      "[CV] ...... C=10, gamma=1.0, kernel=linear, score=0.579, total=   1.2s\n",
      "[CV] C=10, gamma=1.0, kernel=linear ..................................\n",
      "[CV] ...... C=10, gamma=1.0, kernel=linear, score=0.564, total=   1.2s\n",
      "[CV] C=10, gamma=1.0, kernel=linear ..................................\n",
      "[CV] ...... C=10, gamma=1.0, kernel=linear, score=0.527, total=   0.9s\n",
      "[CV] C=10, gamma=0.1, kernel=rbf .....................................\n",
      "[CV] ......... C=10, gamma=0.1, kernel=rbf, score=0.504, total=   0.3s\n",
      "[CV] C=10, gamma=0.1, kernel=rbf .....................................\n",
      "[CV] ......... C=10, gamma=0.1, kernel=rbf, score=0.536, total=   0.3s\n",
      "[CV] C=10, gamma=0.1, kernel=rbf .....................................\n",
      "[CV] ......... C=10, gamma=0.1, kernel=rbf, score=0.526, total=   0.3s\n",
      "[CV] C=10, gamma=0.1, kernel=rbf .....................................\n",
      "[CV] ......... C=10, gamma=0.1, kernel=rbf, score=0.541, total=   0.3s\n",
      "[CV] C=10, gamma=0.1, kernel=rbf .....................................\n",
      "[CV] ......... C=10, gamma=0.1, kernel=rbf, score=0.516, total=   0.3s\n",
      "[CV] C=10, gamma=0.1, kernel=linear ..................................\n",
      "[CV] ...... C=10, gamma=0.1, kernel=linear, score=0.558, total=   1.2s\n",
      "[CV] C=10, gamma=0.1, kernel=linear ..................................\n",
      "[CV] ...... C=10, gamma=0.1, kernel=linear, score=0.555, total=   1.2s\n",
      "[CV] C=10, gamma=0.1, kernel=linear ..................................\n",
      "[CV] ...... C=10, gamma=0.1, kernel=linear, score=0.579, total=   1.2s\n",
      "[CV] C=10, gamma=0.1, kernel=linear ..................................\n"
     ]
    },
    {
     "name": "stdout",
     "output_type": "stream",
     "text": [
      "[CV] ...... C=10, gamma=0.1, kernel=linear, score=0.564, total=   1.2s\n",
      "[CV] C=10, gamma=0.1, kernel=linear ..................................\n",
      "[CV] ...... C=10, gamma=0.1, kernel=linear, score=0.527, total=   1.0s\n",
      "[CV] C=10, gamma=0.01, kernel=rbf ....................................\n",
      "[CV] ........ C=10, gamma=0.01, kernel=rbf, score=0.534, total=   0.3s\n",
      "[CV] C=10, gamma=0.01, kernel=rbf ....................................\n",
      "[CV] ........ C=10, gamma=0.01, kernel=rbf, score=0.551, total=   0.3s\n",
      "[CV] C=10, gamma=0.01, kernel=rbf ....................................\n",
      "[CV] ........ C=10, gamma=0.01, kernel=rbf, score=0.566, total=   0.3s\n",
      "[CV] C=10, gamma=0.01, kernel=rbf ....................................\n",
      "[CV] ........ C=10, gamma=0.01, kernel=rbf, score=0.560, total=   0.3s\n",
      "[CV] C=10, gamma=0.01, kernel=rbf ....................................\n",
      "[CV] ........ C=10, gamma=0.01, kernel=rbf, score=0.574, total=   0.3s\n",
      "[CV] C=10, gamma=0.01, kernel=linear .................................\n",
      "[CV] ..... C=10, gamma=0.01, kernel=linear, score=0.558, total=   1.2s\n",
      "[CV] C=10, gamma=0.01, kernel=linear .................................\n",
      "[CV] ..... C=10, gamma=0.01, kernel=linear, score=0.555, total=   1.2s\n",
      "[CV] C=10, gamma=0.01, kernel=linear .................................\n",
      "[CV] ..... C=10, gamma=0.01, kernel=linear, score=0.579, total=   1.2s\n",
      "[CV] C=10, gamma=0.01, kernel=linear .................................\n",
      "[CV] ..... C=10, gamma=0.01, kernel=linear, score=0.564, total=   1.2s\n",
      "[CV] C=10, gamma=0.01, kernel=linear .................................\n",
      "[CV] ..... C=10, gamma=0.01, kernel=linear, score=0.527, total=   0.9s\n",
      "[CV] C=10, gamma=0.001, kernel=rbf ...................................\n",
      "[CV] ....... C=10, gamma=0.001, kernel=rbf, score=0.570, total=   0.2s\n",
      "[CV] C=10, gamma=0.001, kernel=rbf ...................................\n",
      "[CV] ....... C=10, gamma=0.001, kernel=rbf, score=0.562, total=   0.2s\n",
      "[CV] C=10, gamma=0.001, kernel=rbf ...................................\n",
      "[CV] ....... C=10, gamma=0.001, kernel=rbf, score=0.583, total=   0.2s\n",
      "[CV] C=10, gamma=0.001, kernel=rbf ...................................\n",
      "[CV] ....... C=10, gamma=0.001, kernel=rbf, score=0.566, total=   0.2s\n",
      "[CV] C=10, gamma=0.001, kernel=rbf ...................................\n",
      "[CV] ....... C=10, gamma=0.001, kernel=rbf, score=0.529, total=   0.2s\n",
      "[CV] C=10, gamma=0.001, kernel=linear ................................\n",
      "[CV] .... C=10, gamma=0.001, kernel=linear, score=0.558, total=   1.2s\n",
      "[CV] C=10, gamma=0.001, kernel=linear ................................\n",
      "[CV] .... C=10, gamma=0.001, kernel=linear, score=0.555, total=   1.2s\n",
      "[CV] C=10, gamma=0.001, kernel=linear ................................\n",
      "[CV] .... C=10, gamma=0.001, kernel=linear, score=0.579, total=   1.2s\n",
      "[CV] C=10, gamma=0.001, kernel=linear ................................\n",
      "[CV] .... C=10, gamma=0.001, kernel=linear, score=0.564, total=   1.2s\n",
      "[CV] C=10, gamma=0.001, kernel=linear ................................\n",
      "[CV] .... C=10, gamma=0.001, kernel=linear, score=0.527, total=   0.9s\n",
      "[CV] C=10, gamma=0.0001, kernel=rbf ..................................\n",
      "[CV] ...... C=10, gamma=0.0001, kernel=rbf, score=0.558, total=   0.2s\n",
      "[CV] C=10, gamma=0.0001, kernel=rbf ..................................\n",
      "[CV] ...... C=10, gamma=0.0001, kernel=rbf, score=0.547, total=   0.2s\n",
      "[CV] C=10, gamma=0.0001, kernel=rbf ..................................\n",
      "[CV] ...... C=10, gamma=0.0001, kernel=rbf, score=0.586, total=   0.2s\n",
      "[CV] C=10, gamma=0.0001, kernel=rbf ..................................\n",
      "[CV] ...... C=10, gamma=0.0001, kernel=rbf, score=0.575, total=   0.3s\n",
      "[CV] C=10, gamma=0.0001, kernel=rbf ..................................\n",
      "[CV] ...... C=10, gamma=0.0001, kernel=rbf, score=0.565, total=   0.3s\n",
      "[CV] C=10, gamma=0.0001, kernel=linear ...............................\n",
      "[CV] ... C=10, gamma=0.0001, kernel=linear, score=0.558, total=   1.2s\n",
      "[CV] C=10, gamma=0.0001, kernel=linear ...............................\n",
      "[CV] ... C=10, gamma=0.0001, kernel=linear, score=0.555, total=   1.2s\n",
      "[CV] C=10, gamma=0.0001, kernel=linear ...............................\n",
      "[CV] ... C=10, gamma=0.0001, kernel=linear, score=0.579, total=   1.2s\n",
      "[CV] C=10, gamma=0.0001, kernel=linear ...............................\n",
      "[CV] ... C=10, gamma=0.0001, kernel=linear, score=0.564, total=   1.2s\n",
      "[CV] C=10, gamma=0.0001, kernel=linear ...............................\n",
      "[CV] ... C=10, gamma=0.0001, kernel=linear, score=0.527, total=   0.9s\n",
      "[CV] C=100, gamma=1.0, kernel=rbf ....................................\n",
      "[CV] ........ C=100, gamma=1.0, kernel=rbf, score=0.523, total=   0.3s\n",
      "[CV] C=100, gamma=1.0, kernel=rbf ....................................\n",
      "[CV] ........ C=100, gamma=1.0, kernel=rbf, score=0.539, total=   0.3s\n",
      "[CV] C=100, gamma=1.0, kernel=rbf ....................................\n",
      "[CV] ........ C=100, gamma=1.0, kernel=rbf, score=0.541, total=   0.3s\n",
      "[CV] C=100, gamma=1.0, kernel=rbf ....................................\n",
      "[CV] ........ C=100, gamma=1.0, kernel=rbf, score=0.523, total=   0.3s\n",
      "[CV] C=100, gamma=1.0, kernel=rbf ....................................\n",
      "[CV] ........ C=100, gamma=1.0, kernel=rbf, score=0.488, total=   0.3s\n",
      "[CV] C=100, gamma=1.0, kernel=linear .................................\n",
      "[CV] ..... C=100, gamma=1.0, kernel=linear, score=0.558, total=   9.1s\n",
      "[CV] C=100, gamma=1.0, kernel=linear .................................\n",
      "[CV] ..... C=100, gamma=1.0, kernel=linear, score=0.555, total=   8.6s\n",
      "[CV] C=100, gamma=1.0, kernel=linear .................................\n",
      "[CV] ..... C=100, gamma=1.0, kernel=linear, score=0.575, total=  10.9s\n",
      "[CV] C=100, gamma=1.0, kernel=linear .................................\n",
      "[CV] ..... C=100, gamma=1.0, kernel=linear, score=0.562, total=   8.5s\n",
      "[CV] C=100, gamma=1.0, kernel=linear .................................\n",
      "[CV] ..... C=100, gamma=1.0, kernel=linear, score=0.527, total= 1.7min\n",
      "[CV] C=100, gamma=0.1, kernel=rbf ....................................\n",
      "[CV] ........ C=100, gamma=0.1, kernel=rbf, score=0.502, total=   0.3s\n",
      "[CV] C=100, gamma=0.1, kernel=rbf ....................................\n",
      "[CV] ........ C=100, gamma=0.1, kernel=rbf, score=0.538, total=   0.3s\n",
      "[CV] C=100, gamma=0.1, kernel=rbf ....................................\n",
      "[CV] ........ C=100, gamma=0.1, kernel=rbf, score=0.539, total=   0.3s\n",
      "[CV] C=100, gamma=0.1, kernel=rbf ....................................\n",
      "[CV] ........ C=100, gamma=0.1, kernel=rbf, score=0.536, total=   0.3s\n",
      "[CV] C=100, gamma=0.1, kernel=rbf ....................................\n",
      "[CV] ........ C=100, gamma=0.1, kernel=rbf, score=0.522, total=   0.3s\n",
      "[CV] C=100, gamma=0.1, kernel=linear .................................\n",
      "[CV] ..... C=100, gamma=0.1, kernel=linear, score=0.558, total=   8.9s\n",
      "[CV] C=100, gamma=0.1, kernel=linear .................................\n",
      "[CV] ..... C=100, gamma=0.1, kernel=linear, score=0.555, total=   8.0s\n",
      "[CV] C=100, gamma=0.1, kernel=linear .................................\n",
      "[CV] ..... C=100, gamma=0.1, kernel=linear, score=0.575, total=  10.6s\n",
      "[CV] C=100, gamma=0.1, kernel=linear .................................\n",
      "[CV] ..... C=100, gamma=0.1, kernel=linear, score=0.562, total=   8.3s\n",
      "[CV] C=100, gamma=0.1, kernel=linear .................................\n",
      "[CV] ..... C=100, gamma=0.1, kernel=linear, score=0.527, total= 1.8min\n",
      "[CV] C=100, gamma=0.01, kernel=rbf ...................................\n",
      "[CV] ....... C=100, gamma=0.01, kernel=rbf, score=0.515, total=   0.6s\n",
      "[CV] C=100, gamma=0.01, kernel=rbf ...................................\n",
      "[CV] ....... C=100, gamma=0.01, kernel=rbf, score=0.536, total=   0.6s\n",
      "[CV] C=100, gamma=0.01, kernel=rbf ...................................\n",
      "[CV] ....... C=100, gamma=0.01, kernel=rbf, score=0.530, total=   0.6s\n",
      "[CV] C=100, gamma=0.01, kernel=rbf ...................................\n",
      "[CV] ....... C=100, gamma=0.01, kernel=rbf, score=0.549, total=   0.6s\n",
      "[CV] C=100, gamma=0.01, kernel=rbf ...................................\n",
      "[CV] ....... C=100, gamma=0.01, kernel=rbf, score=0.542, total=   0.6s\n",
      "[CV] C=100, gamma=0.01, kernel=linear ................................\n",
      "[CV] .... C=100, gamma=0.01, kernel=linear, score=0.558, total=   8.9s\n",
      "[CV] C=100, gamma=0.01, kernel=linear ................................\n"
     ]
    },
    {
     "name": "stdout",
     "output_type": "stream",
     "text": [
      "[CV] .... C=100, gamma=0.01, kernel=linear, score=0.555, total=   8.1s\n",
      "[CV] C=100, gamma=0.01, kernel=linear ................................\n",
      "[CV] .... C=100, gamma=0.01, kernel=linear, score=0.575, total=  10.8s\n",
      "[CV] C=100, gamma=0.01, kernel=linear ................................\n",
      "[CV] .... C=100, gamma=0.01, kernel=linear, score=0.562, total=   8.5s\n",
      "[CV] C=100, gamma=0.01, kernel=linear ................................\n",
      "[CV] .... C=100, gamma=0.01, kernel=linear, score=0.527, total= 1.7min\n",
      "[CV] C=100, gamma=0.001, kernel=rbf ..................................\n",
      "[CV] ...... C=100, gamma=0.001, kernel=rbf, score=0.553, total=   0.3s\n",
      "[CV] C=100, gamma=0.001, kernel=rbf ..................................\n",
      "[CV] ...... C=100, gamma=0.001, kernel=rbf, score=0.558, total=   0.3s\n",
      "[CV] C=100, gamma=0.001, kernel=rbf ..................................\n",
      "[CV] ...... C=100, gamma=0.001, kernel=rbf, score=0.564, total=   0.3s\n",
      "[CV] C=100, gamma=0.001, kernel=rbf ..................................\n",
      "[CV] ...... C=100, gamma=0.001, kernel=rbf, score=0.575, total=   0.3s\n",
      "[CV] C=100, gamma=0.001, kernel=rbf ..................................\n",
      "[CV] ...... C=100, gamma=0.001, kernel=rbf, score=0.586, total=   0.3s\n",
      "[CV] C=100, gamma=0.001, kernel=linear ...............................\n",
      "[CV] ... C=100, gamma=0.001, kernel=linear, score=0.558, total=   9.3s\n",
      "[CV] C=100, gamma=0.001, kernel=linear ...............................\n",
      "[CV] ... C=100, gamma=0.001, kernel=linear, score=0.555, total=   8.4s\n",
      "[CV] C=100, gamma=0.001, kernel=linear ...............................\n",
      "[CV] ... C=100, gamma=0.001, kernel=linear, score=0.575, total=  11.0s\n",
      "[CV] C=100, gamma=0.001, kernel=linear ...............................\n",
      "[CV] ... C=100, gamma=0.001, kernel=linear, score=0.562, total=   8.6s\n",
      "[CV] C=100, gamma=0.001, kernel=linear ...............................\n",
      "[CV] ... C=100, gamma=0.001, kernel=linear, score=0.527, total= 1.8min\n",
      "[CV] C=100, gamma=0.0001, kernel=rbf .................................\n",
      "[CV] ..... C=100, gamma=0.0001, kernel=rbf, score=0.556, total=   0.3s\n",
      "[CV] C=100, gamma=0.0001, kernel=rbf .................................\n",
      "[CV] ..... C=100, gamma=0.0001, kernel=rbf, score=0.549, total=   0.3s\n",
      "[CV] C=100, gamma=0.0001, kernel=rbf .................................\n",
      "[CV] ..... C=100, gamma=0.0001, kernel=rbf, score=0.585, total=   0.3s\n",
      "[CV] C=100, gamma=0.0001, kernel=rbf .................................\n",
      "[CV] ..... C=100, gamma=0.0001, kernel=rbf, score=0.558, total=   0.3s\n",
      "[CV] C=100, gamma=0.0001, kernel=rbf .................................\n",
      "[CV] ..... C=100, gamma=0.0001, kernel=rbf, score=0.527, total=   0.3s\n",
      "[CV] C=100, gamma=0.0001, kernel=linear ..............................\n",
      "[CV] .. C=100, gamma=0.0001, kernel=linear, score=0.558, total=   9.4s\n",
      "[CV] C=100, gamma=0.0001, kernel=linear ..............................\n",
      "[CV] .. C=100, gamma=0.0001, kernel=linear, score=0.555, total=   8.3s\n",
      "[CV] C=100, gamma=0.0001, kernel=linear ..............................\n",
      "[CV] .. C=100, gamma=0.0001, kernel=linear, score=0.575, total=  10.7s\n",
      "[CV] C=100, gamma=0.0001, kernel=linear ..............................\n",
      "[CV] .. C=100, gamma=0.0001, kernel=linear, score=0.562, total=   8.8s\n",
      "[CV] C=100, gamma=0.0001, kernel=linear ..............................\n",
      "[CV] .. C=100, gamma=0.0001, kernel=linear, score=0.527, total= 1.8min\n",
      "[CV] C=1000, gamma=1.0, kernel=rbf ...................................\n",
      "[CV] ....... C=1000, gamma=1.0, kernel=rbf, score=0.524, total=   0.3s\n",
      "[CV] C=1000, gamma=1.0, kernel=rbf ...................................\n",
      "[CV] ....... C=1000, gamma=1.0, kernel=rbf, score=0.539, total=   0.3s\n",
      "[CV] C=1000, gamma=1.0, kernel=rbf ...................................\n",
      "[CV] ....... C=1000, gamma=1.0, kernel=rbf, score=0.541, total=   0.3s\n",
      "[CV] C=1000, gamma=1.0, kernel=rbf ...................................\n",
      "[CV] ....... C=1000, gamma=1.0, kernel=rbf, score=0.523, total=   0.3s\n",
      "[CV] C=1000, gamma=1.0, kernel=rbf ...................................\n",
      "[CV] ....... C=1000, gamma=1.0, kernel=rbf, score=0.488, total=   0.3s\n",
      "[CV] C=1000, gamma=1.0, kernel=linear ................................\n",
      "[CV] .... C=1000, gamma=1.0, kernel=linear, score=0.555, total= 1.6min\n",
      "[CV] C=1000, gamma=1.0, kernel=linear ................................\n",
      "[CV] .... C=1000, gamma=1.0, kernel=linear, score=0.556, total= 1.9min\n",
      "[CV] C=1000, gamma=1.0, kernel=linear ................................\n",
      "[CV] .... C=1000, gamma=1.0, kernel=linear, score=0.579, total= 1.4min\n",
      "[CV] C=1000, gamma=1.0, kernel=linear ................................\n",
      "[CV] .... C=1000, gamma=1.0, kernel=linear, score=0.564, total= 1.2min\n",
      "[CV] C=1000, gamma=1.0, kernel=linear ................................\n",
      "[CV] .... C=1000, gamma=1.0, kernel=linear, score=0.527, total= 4.0min\n",
      "[CV] C=1000, gamma=0.1, kernel=rbf ...................................\n",
      "[CV] ....... C=1000, gamma=0.1, kernel=rbf, score=0.528, total=   0.3s\n",
      "[CV] C=1000, gamma=0.1, kernel=rbf ...................................\n",
      "[CV] ....... C=1000, gamma=0.1, kernel=rbf, score=0.541, total=   0.3s\n",
      "[CV] C=1000, gamma=0.1, kernel=rbf ...................................\n",
      "[CV] ....... C=1000, gamma=0.1, kernel=rbf, score=0.547, total=   0.3s\n",
      "[CV] C=1000, gamma=0.1, kernel=rbf ...................................\n",
      "[CV] ....... C=1000, gamma=0.1, kernel=rbf, score=0.526, total=   0.3s\n",
      "[CV] C=1000, gamma=0.1, kernel=rbf ...................................\n",
      "[CV] ....... C=1000, gamma=0.1, kernel=rbf, score=0.522, total=   0.3s\n",
      "[CV] C=1000, gamma=0.1, kernel=linear ................................\n",
      "[CV] .... C=1000, gamma=0.1, kernel=linear, score=0.555, total= 1.6min\n",
      "[CV] C=1000, gamma=0.1, kernel=linear ................................\n",
      "[CV] .... C=1000, gamma=0.1, kernel=linear, score=0.556, total= 2.0min\n",
      "[CV] C=1000, gamma=0.1, kernel=linear ................................\n",
      "[CV] .... C=1000, gamma=0.1, kernel=linear, score=0.579, total= 1.5min\n",
      "[CV] C=1000, gamma=0.1, kernel=linear ................................\n",
      "[CV] .... C=1000, gamma=0.1, kernel=linear, score=0.564, total= 1.4min\n",
      "[CV] C=1000, gamma=0.1, kernel=linear ................................\n",
      "[CV] .... C=1000, gamma=0.1, kernel=linear, score=0.527, total= 4.2min\n",
      "[CV] C=1000, gamma=0.01, kernel=rbf ..................................\n",
      "[CV] ...... C=1000, gamma=0.01, kernel=rbf, score=0.502, total=   1.8s\n",
      "[CV] C=1000, gamma=0.01, kernel=rbf ..................................\n",
      "[CV] ...... C=1000, gamma=0.01, kernel=rbf, score=0.513, total=   1.9s\n",
      "[CV] C=1000, gamma=0.01, kernel=rbf ..................................\n",
      "[CV] ...... C=1000, gamma=0.01, kernel=rbf, score=0.515, total=   1.7s\n",
      "[CV] C=1000, gamma=0.01, kernel=rbf ..................................\n",
      "[CV] ...... C=1000, gamma=0.01, kernel=rbf, score=0.530, total=   1.9s\n",
      "[CV] C=1000, gamma=0.01, kernel=rbf ..................................\n",
      "[CV] ...... C=1000, gamma=0.01, kernel=rbf, score=0.529, total=   1.7s\n",
      "[CV] C=1000, gamma=0.01, kernel=linear ...............................\n",
      "[CV] ... C=1000, gamma=0.01, kernel=linear, score=0.555, total= 1.6min\n",
      "[CV] C=1000, gamma=0.01, kernel=linear ...............................\n",
      "[CV] ... C=1000, gamma=0.01, kernel=linear, score=0.556, total= 2.0min\n",
      "[CV] C=1000, gamma=0.01, kernel=linear ...............................\n",
      "[CV] ... C=1000, gamma=0.01, kernel=linear, score=0.579, total= 1.5min\n",
      "[CV] C=1000, gamma=0.01, kernel=linear ...............................\n",
      "[CV] ... C=1000, gamma=0.01, kernel=linear, score=0.564, total= 1.4min\n",
      "[CV] C=1000, gamma=0.01, kernel=linear ...............................\n",
      "[CV] ... C=1000, gamma=0.01, kernel=linear, score=0.527, total= 4.1min\n",
      "[CV] C=1000, gamma=0.001, kernel=rbf .................................\n",
      "[CV] ..... C=1000, gamma=0.001, kernel=rbf, score=0.538, total=   0.6s\n",
      "[CV] C=1000, gamma=0.001, kernel=rbf .................................\n",
      "[CV] ..... C=1000, gamma=0.001, kernel=rbf, score=0.556, total=   0.7s\n",
      "[CV] C=1000, gamma=0.001, kernel=rbf .................................\n",
      "[CV] ..... C=1000, gamma=0.001, kernel=rbf, score=0.547, total=   0.7s\n",
      "[CV] C=1000, gamma=0.001, kernel=rbf .................................\n",
      "[CV] ..... C=1000, gamma=0.001, kernel=rbf, score=0.570, total=   0.6s\n",
      "[CV] C=1000, gamma=0.001, kernel=rbf .................................\n"
     ]
    },
    {
     "name": "stdout",
     "output_type": "stream",
     "text": [
      "[CV] ..... C=1000, gamma=0.001, kernel=rbf, score=0.556, total=   0.6s\n",
      "[CV] C=1000, gamma=0.001, kernel=linear ..............................\n",
      "[CV] .. C=1000, gamma=0.001, kernel=linear, score=0.555, total= 1.6min\n",
      "[CV] C=1000, gamma=0.001, kernel=linear ..............................\n",
      "[CV] .. C=1000, gamma=0.001, kernel=linear, score=0.556, total= 1.9min\n",
      "[CV] C=1000, gamma=0.001, kernel=linear ..............................\n",
      "[CV] .. C=1000, gamma=0.001, kernel=linear, score=0.579, total= 1.5min\n",
      "[CV] C=1000, gamma=0.001, kernel=linear ..............................\n",
      "[CV] .. C=1000, gamma=0.001, kernel=linear, score=0.564, total= 1.3min\n",
      "[CV] C=1000, gamma=0.001, kernel=linear ..............................\n",
      "[CV] .. C=1000, gamma=0.001, kernel=linear, score=0.527, total= 4.0min\n",
      "[CV] C=1000, gamma=0.0001, kernel=rbf ................................\n",
      "[CV] .... C=1000, gamma=0.0001, kernel=rbf, score=0.570, total=   0.3s\n",
      "[CV] C=1000, gamma=0.0001, kernel=rbf ................................\n",
      "[CV] .... C=1000, gamma=0.0001, kernel=rbf, score=0.558, total=   0.3s\n",
      "[CV] C=1000, gamma=0.0001, kernel=rbf ................................\n",
      "[CV] .... C=1000, gamma=0.0001, kernel=rbf, score=0.579, total=   0.3s\n",
      "[CV] C=1000, gamma=0.0001, kernel=rbf ................................\n",
      "[CV] .... C=1000, gamma=0.0001, kernel=rbf, score=0.562, total=   0.3s\n",
      "[CV] C=1000, gamma=0.0001, kernel=rbf ................................\n",
      "[CV] .... C=1000, gamma=0.0001, kernel=rbf, score=0.527, total=   0.3s\n",
      "[CV] C=1000, gamma=0.0001, kernel=linear .............................\n",
      "[CV] . C=1000, gamma=0.0001, kernel=linear, score=0.555, total= 1.6min\n",
      "[CV] C=1000, gamma=0.0001, kernel=linear .............................\n",
      "[CV] . C=1000, gamma=0.0001, kernel=linear, score=0.556, total= 2.0min\n",
      "[CV] C=1000, gamma=0.0001, kernel=linear .............................\n",
      "[CV] . C=1000, gamma=0.0001, kernel=linear, score=0.579, total= 1.5min\n",
      "[CV] C=1000, gamma=0.0001, kernel=linear .............................\n",
      "[CV] . C=1000, gamma=0.0001, kernel=linear, score=0.564, total= 1.4min\n",
      "[CV] C=1000, gamma=0.0001, kernel=linear .............................\n",
      "[CV] . C=1000, gamma=0.0001, kernel=linear, score=0.527, total= 4.2min\n"
     ]
    },
    {
     "name": "stderr",
     "output_type": "stream",
     "text": [
      "[Parallel(n_jobs=1)]: Done 250 out of 250 | elapsed: 65.7min finished\n"
     ]
    },
    {
     "data": {
      "text/plain": [
       "{'C': 1, 'gamma': 0.01, 'kernel': 'rbf'}"
      ]
     },
     "execution_count": 850,
     "metadata": {},
     "output_type": "execute_result"
    }
   ],
   "source": [
    "#hyperparameter tuning\n",
    "grid = GridSearchCV(svm.SVC(), param_grid, refit=True, verbose = 3)\n",
    "grid.fit(X_train,y_train)\n",
    "grid.best_params_"
   ]
  },
  {
   "cell_type": "code",
   "execution_count": 851,
   "metadata": {},
   "outputs": [
    {
     "data": {
      "text/plain": [
       "0.5693945315265566"
      ]
     },
     "execution_count": 851,
     "metadata": {},
     "output_type": "execute_result"
    }
   ],
   "source": [
    "grid.best_score_"
   ]
  },
  {
   "cell_type": "code",
   "execution_count": 852,
   "metadata": {},
   "outputs": [
    {
     "name": "stdout",
     "output_type": "stream",
     "text": [
      "              precision    recall  f1-score   support\n",
      "\n",
      "           0       0.55      0.50      0.52       612\n",
      "           1       0.59      0.64      0.61       698\n",
      "\n",
      "    accuracy                           0.57      1310\n",
      "   macro avg       0.57      0.57      0.57      1310\n",
      "weighted avg       0.57      0.57      0.57      1310\n",
      "\n"
     ]
    }
   ],
   "source": [
    "#classification report\n",
    "grid_predictions = grid.predict(X_test)\n",
    "print(classification_report(y_test, grid_predictions))"
   ]
  },
  {
   "cell_type": "code",
   "execution_count": 853,
   "metadata": {},
   "outputs": [
    {
     "name": "stdout",
     "output_type": "stream",
     "text": [
      "[[303 309]\n",
      " [252 446]]\n"
     ]
    }
   ],
   "source": [
    "#confusion matrix\n",
    "from sklearn.metrics import confusion_matrix\n",
    "cm = confusion_matrix(y_test, grid_predictions)\n",
    "print(cm)"
   ]
  },
  {
   "cell_type": "markdown",
   "metadata": {},
   "source": [
    "The accuracy is not high. What is more important, the recall is at 64% (The same as the above algorithms).\n",
    "The four algorithms had similar results with a slight difference in accuracy."
   ]
  },
  {
   "cell_type": "markdown",
   "metadata": {},
   "source": [
    "Neural Network Classifier wih Keras the Final Model"
   ]
  },
  {
   "cell_type": "code",
   "execution_count": 181,
   "metadata": {},
   "outputs": [],
   "source": [
    "#using standard scaler to scale the data before using neural networks with keras\n",
    "sc = StandardScaler()\n",
    "X = sc.fit_transform(features)"
   ]
  },
  {
   "cell_type": "code",
   "execution_count": null,
   "metadata": {},
   "outputs": [],
   "source": [
    "#splitting the data trying to have quite a bit of it in both test and validation set yet less than in training set\n",
    "X_train, X_val_and_test, y_train, y_val_and_test = train_test_split(X, y, test_size = 0.6)\n",
    "X_val, X_test, y_val, y_test = train_test_split(X_val_and_test,y_val_and_test, test_size = 0.6)"
   ]
  },
  {
   "cell_type": "code",
   "execution_count": 744,
   "metadata": {},
   "outputs": [
    {
     "name": "stdout",
     "output_type": "stream",
     "text": [
      "Epoch 1/30\n",
      "3/3 [==============================] - 0s 49ms/step - loss: 0.6930 - accuracy: 0.5173 - val_loss: 0.6928 - val_accuracy: 0.5410\n",
      "Epoch 2/30\n",
      "3/3 [==============================] - 0s 5ms/step - loss: 0.6930 - accuracy: 0.5079 - val_loss: 0.6927 - val_accuracy: 0.5431\n",
      "Epoch 3/30\n",
      "3/3 [==============================] - 0s 6ms/step - loss: 0.6930 - accuracy: 0.5205 - val_loss: 0.6925 - val_accuracy: 0.5431\n",
      "Epoch 4/30\n",
      "3/3 [==============================] - 0s 5ms/step - loss: 0.6927 - accuracy: 0.5180 - val_loss: 0.6924 - val_accuracy: 0.5431\n",
      "Epoch 5/30\n",
      "3/3 [==============================] - 0s 6ms/step - loss: 0.6924 - accuracy: 0.5186 - val_loss: 0.6922 - val_accuracy: 0.5431\n",
      "Epoch 6/30\n",
      "3/3 [==============================] - 0s 6ms/step - loss: 0.6921 - accuracy: 0.5243 - val_loss: 0.6920 - val_accuracy: 0.5431\n",
      "Epoch 7/30\n",
      "3/3 [==============================] - 0s 6ms/step - loss: 0.6924 - accuracy: 0.5217 - val_loss: 0.6918 - val_accuracy: 0.5431\n",
      "Epoch 8/30\n",
      "3/3 [==============================] - 0s 5ms/step - loss: 0.6921 - accuracy: 0.5217 - val_loss: 0.6916 - val_accuracy: 0.5431\n",
      "Epoch 9/30\n",
      "3/3 [==============================] - 0s 6ms/step - loss: 0.6922 - accuracy: 0.5180 - val_loss: 0.6914 - val_accuracy: 0.5431\n",
      "Epoch 10/30\n",
      "3/3 [==============================] - 0s 6ms/step - loss: 0.6917 - accuracy: 0.5217 - val_loss: 0.6912 - val_accuracy: 0.5431\n",
      "Epoch 11/30\n",
      "3/3 [==============================] - 0s 6ms/step - loss: 0.6916 - accuracy: 0.5211 - val_loss: 0.6909 - val_accuracy: 0.5431\n",
      "Epoch 12/30\n",
      "3/3 [==============================] - 0s 5ms/step - loss: 0.6914 - accuracy: 0.5205 - val_loss: 0.6906 - val_accuracy: 0.5431\n",
      "Epoch 13/30\n",
      "3/3 [==============================] - 0s 6ms/step - loss: 0.6911 - accuracy: 0.5217 - val_loss: 0.6902 - val_accuracy: 0.5431\n",
      "Epoch 14/30\n",
      "3/3 [==============================] - 0s 6ms/step - loss: 0.6903 - accuracy: 0.5236 - val_loss: 0.6898 - val_accuracy: 0.5431\n",
      "Epoch 15/30\n",
      "3/3 [==============================] - 0s 6ms/step - loss: 0.6903 - accuracy: 0.5217 - val_loss: 0.6894 - val_accuracy: 0.5431\n",
      "Epoch 16/30\n",
      "3/3 [==============================] - 0s 6ms/step - loss: 0.6883 - accuracy: 0.5211 - val_loss: 0.6889 - val_accuracy: 0.5431\n",
      "Epoch 17/30\n",
      "3/3 [==============================] - 0s 6ms/step - loss: 0.6891 - accuracy: 0.5236 - val_loss: 0.6884 - val_accuracy: 0.5431\n",
      "Epoch 18/30\n",
      "3/3 [==============================] - 0s 6ms/step - loss: 0.6885 - accuracy: 0.5236 - val_loss: 0.6878 - val_accuracy: 0.5431\n",
      "Epoch 19/30\n",
      "3/3 [==============================] - 0s 6ms/step - loss: 0.6856 - accuracy: 0.5249 - val_loss: 0.6872 - val_accuracy: 0.5431\n",
      "Epoch 20/30\n",
      "3/3 [==============================] - 0s 6ms/step - loss: 0.6876 - accuracy: 0.5274 - val_loss: 0.6867 - val_accuracy: 0.5410\n",
      "Epoch 21/30\n",
      "3/3 [==============================] - 0s 5ms/step - loss: 0.6873 - accuracy: 0.5318 - val_loss: 0.6862 - val_accuracy: 0.5420\n",
      "Epoch 22/30\n",
      "3/3 [==============================] - 0s 6ms/step - loss: 0.6843 - accuracy: 0.5312 - val_loss: 0.6856 - val_accuracy: 0.5357\n",
      "Epoch 23/30\n",
      "3/3 [==============================] - 0s 6ms/step - loss: 0.6851 - accuracy: 0.5362 - val_loss: 0.6851 - val_accuracy: 0.5462\n",
      "Epoch 24/30\n",
      "3/3 [==============================] - 0s 5ms/step - loss: 0.6822 - accuracy: 0.5476 - val_loss: 0.6845 - val_accuracy: 0.5326\n",
      "Epoch 25/30\n",
      "3/3 [==============================] - 0s 5ms/step - loss: 0.6835 - accuracy: 0.5551 - val_loss: 0.6842 - val_accuracy: 0.5431\n",
      "Epoch 26/30\n",
      "3/3 [==============================] - 0s 6ms/step - loss: 0.6805 - accuracy: 0.5570 - val_loss: 0.6838 - val_accuracy: 0.5462\n",
      "Epoch 27/30\n",
      "3/3 [==============================] - 0s 5ms/step - loss: 0.6835 - accuracy: 0.5558 - val_loss: 0.6836 - val_accuracy: 0.5494\n",
      "Epoch 28/30\n",
      "3/3 [==============================] - 0s 6ms/step - loss: 0.6773 - accuracy: 0.5577 - val_loss: 0.6834 - val_accuracy: 0.5504\n",
      "Epoch 29/30\n",
      "3/3 [==============================] - 0s 6ms/step - loss: 0.6806 - accuracy: 0.5753 - val_loss: 0.6832 - val_accuracy: 0.5651\n",
      "Epoch 30/30\n",
      "3/3 [==============================] - 0s 6ms/step - loss: 0.6798 - accuracy: 0.5841 - val_loss: 0.6831 - val_accuracy: 0.5704\n"
     ]
    }
   ],
   "source": [
    "#importing the needed libraries and setting the seed for reproducibility\n",
    "tf.random.set_seed(4)\n",
    "import tensorflow as tf\n",
    "from tensorflow import keras\n",
    "from tensorflow.keras import layers\n",
    "from sklearn.model_selection import train_test_split\n",
    "from keras import Sequential\n",
    "from keras.layers import Dense\n",
    "from keras import regularizers\n",
    "from tensorflow.keras.regularizers import l2\n",
    "from keras.callbacks import EarlyStopping, ModelCheckpoint\n",
    "from tensorflow.keras.layers import Dropout\n",
    "#using dropout, regularization of l2 and  4 layers\n",
    "classifier = Sequential()\n",
    "classifier.add(Dense(15, activation='relu', kernel_initializer='random_normal',input_dim=38,kernel_regularizer=regularizers.l2(0.00000005)))#Second  Hidden Layer\n",
    "classifier.add(layers.Dropout(0.55))\n",
    "classifier.add(Dense(30, activation='relu', kernel_initializer='random_normal', kernel_regularizer=regularizers.l2(0.00000005)))#Output Layer\n",
    "classifier.add(layers.Dropout(0.55))\n",
    "classifier.add(Dense(30, activation='relu', kernel_initializer='random_normal', kernel_regularizer=regularizers.l2(0.00000005)))#Output Layer\n",
    "classifier.add(layers.Dropout(0.55))\n",
    "classifier.add(Dense(1, activation='sigmoid', kernel_initializer='random_normal'))\n",
    "#Compiling the neural network\n",
    "classifier.compile(optimizer ='adam',loss='binary_crossentropy', metrics =['accuracy'])\n",
    "#Fitting the data to the validation set\n",
    "history = classifier.fit(X_train,y_train, batch_size=600, epochs=30, validation_data = (X_val, y_val), verbose = 1)"
   ]
  },
  {
   "cell_type": "code",
   "execution_count": 745,
   "metadata": {},
   "outputs": [
    {
     "name": "stdout",
     "output_type": "stream",
     "text": [
      "45/45 [==============================] - 0s 643us/step - loss: 0.6820 - accuracy: 0.5762\n",
      "Test accuracy: 0.5762237906455994\n"
     ]
    }
   ],
   "source": [
    "#evaluation on the test data\n",
    "test_loss, test_acc = classifier.evaluate(X_test, y_test)\n",
    "print('Test accuracy:', test_acc)"
   ]
  },
  {
   "cell_type": "code",
   "execution_count": 746,
   "metadata": {},
   "outputs": [],
   "source": [
    "y_pred=classifier.predict(X_test)\n",
    "y_pred =(y_pred>0.5)"
   ]
  },
  {
   "cell_type": "code",
   "execution_count": 747,
   "metadata": {},
   "outputs": [
    {
     "name": "stdout",
     "output_type": "stream",
     "text": [
      "[[288 399]\n",
      " [207 536]]\n"
     ]
    }
   ],
   "source": [
    "#confusion matrix\n",
    "cm = confusion_matrix(y_test, y_pred)\n",
    "print(cm)\n",
    "#we had 743 customers that churn and our model was able to identify 536 of them correctly. "
   ]
  },
  {
   "cell_type": "code",
   "execution_count": 748,
   "metadata": {},
   "outputs": [
    {
     "name": "stdout",
     "output_type": "stream",
     "text": [
      "              precision    recall  f1-score   support\n",
      "\n",
      "           0       0.58      0.42      0.49       687\n",
      "           1       0.57      0.72      0.64       743\n",
      "\n",
      "    accuracy                           0.58      1430\n",
      "   macro avg       0.58      0.57      0.56      1430\n",
      "weighted avg       0.58      0.58      0.57      1430\n",
      "\n"
     ]
    }
   ],
   "source": [
    "#classification report\n",
    "print(classification_report(y_test, y_pred))"
   ]
  },
  {
   "cell_type": "code",
   "execution_count": 749,
   "metadata": {},
   "outputs": [],
   "source": [
    "training_loss = history.history['loss']\n",
    "test_loss = history.history['val_loss']"
   ]
  },
  {
   "cell_type": "code",
   "execution_count": 750,
   "metadata": {},
   "outputs": [
    {
     "data": {
      "image/png": "[encoded data removed]",
      "text/plain": [
       "<Figure size 432x288 with 1 Axes>"
      ]
     },
     "metadata": {
      "needs_background": "light"
     },
     "output_type": "display_data"
    }
   ],
   "source": [
    "#plotting the loss\n",
    "epoch_count = range(1,len(training_loss) +1)\n",
    "plt.plot(epoch_count, training_loss, 'r--')\n",
    "plt.plot(epoch_count, test_loss,'b-')\n",
    "plt.legend(['Training loss', 'Test loss'])\n",
    "plt.xlabel('epoch')\n",
    "plt.ylabel('Loss')\n",
    "plt.show();"
   ]
  },
  {
   "cell_type": "code",
   "execution_count": 742,
   "metadata": {
    "scrolled": true
   },
   "outputs": [
    {
     "data": {
      "image/png": "[encoded data removed]",
      "text/plain": [
       "<Figure size 432x288 with 1 Axes>"
      ]
     },
     "metadata": {
      "needs_background": "light"
     },
     "output_type": "display_data"
    }
   ],
   "source": [
    "#plotting the accuracy\n",
    "def plot_metric(history, metric):\n",
    "    train_metrics = history.history[metric]\n",
    "    val_metrics = history.history['val_'+metric]\n",
    "    epochs = range(1, len(train_metrics) + 1)\n",
    "    plt.plot(epochs, train_metrics)\n",
    "    plt.plot(epochs, val_metrics)\n",
    "    plt.title('Training and validation '+ metric)\n",
    "    plt.xlabel(\"Epochs\")\n",
    "    plt.ylabel(metric)\n",
    "    plt.legend([\"train_\"+metric, 'val_'+metric])\n",
    "    plt.show()\n",
    "plot_metric(history, 'accuracy')"
   ]
  },
  {
   "cell_type": "markdown",
   "metadata": {},
   "source": [
    "The accuracy is not high. What is more important, the recall is at 72% which means about 2/3 of the people that churned were predicted correctly. "
   ]
  },
  {
   "cell_type": "markdown",
   "metadata": {},
   "source": [
    "Below is the original Neural Network Model that overfit. I left it here to see the difference between the better model above and the model that overfit below."
   ]
  },
  {
   "cell_type": "code",
   "execution_count": 378,
   "metadata": {},
   "outputs": [
    {
     "name": "stdout",
     "output_type": "stream",
     "text": [
      "Train on 2778 samples, validate on 1191 samples\n",
      "Epoch 1/2\n",
      "2778/2778 [==============================] - 1s 344us/step - loss: 0.6923 - accuracy: 0.5212 - val_loss: 0.6861 - val_accuracy: 0.5508\n",
      "Epoch 2/2\n",
      "2778/2778 [==============================] - 1s 230us/step - loss: 0.6842 - accuracy: 0.5569 - val_loss: 0.6757 - val_accuracy: 0.6096\n",
      "1191/1191 [==============================] - 0s 10us/step\n",
      "Test accuracy: 0.6095718145370483\n"
     ]
    }
   ],
   "source": [
    "##this is an overfitiing model. The good one is above\n",
    "#importing the libraries\n",
    "from keras import Sequential\n",
    "from keras.layers import Dense\n",
    "from keras.callbacks import EarlyStopping, ModelCheckpoint\n",
    "from tensorflow.keras.layers import Dropout\n",
    "from tensorflow.keras.regularizers import l2\n",
    "from keras import layers\n",
    "from keras import regularizers\n",
    "#splitting the data\n",
    "X_train, X_test, y_train, y_test = train_test_split(X, y, test_size=0.3, random_state=3)\n",
    "classifier = Sequential()\n",
    "#First Hidden Layer\n",
    "classifier.add(Dense(8, activation='relu', kernel_initializer='random_normal',kernel_regularizer=regularizers.l2(0.0001)))#Second  Hidden Layer\n",
    "classifier.add(Dense(8, activation='relu', kernel_initializer='random_normal', kernel_regularizer=regularizers.l2(0.0001)))#Output Layer\n",
    "classifier.add(Dense(1, activation='sigmoid', kernel_initializer='random_normal'))\n",
    "#Compiling the neural network\n",
    "classifier.compile(optimizer ='adam',loss='binary_crossentropy', metrics =['accuracy'])\n",
    "#Fitting the data to the training dataset\n",
    "history = classifier.fit(X_train,y_train, batch_size=4, epochs=2, validation_data = (X_test, y_test))\n",
    "test_loss, test_acc = classifier.evaluate(X_test, y_test)\n",
    "print('Test accuracy:', test_acc)"
   ]
  },
  {
   "cell_type": "code",
   "execution_count": 379,
   "metadata": {},
   "outputs": [],
   "source": [
    "y_pred=classifier.predict(X_test)\n",
    "y_pred =(y_pred>0.5)"
   ]
  },
  {
   "cell_type": "code",
   "execution_count": 380,
   "metadata": {},
   "outputs": [
    {
     "name": "stdout",
     "output_type": "stream",
     "text": [
      "[[273 282]\n",
      " [183 453]]\n"
     ]
    }
   ],
   "source": [
    "#confusion matrix of the overfitting model\n",
    "from sklearn.metrics import confusion_matrix\n",
    "cm = confusion_matrix(y_test, y_pred)\n",
    "print(cm)"
   ]
  },
  {
   "cell_type": "code",
   "execution_count": 382,
   "metadata": {},
   "outputs": [
    {
     "name": "stdout",
     "output_type": "stream",
     "text": [
      "              precision    recall  f1-score   support\n",
      "\n",
      "           0       0.60      0.49      0.54       555\n",
      "           1       0.62      0.71      0.66       636\n",
      "\n",
      "    accuracy                           0.61      1191\n",
      "   macro avg       0.61      0.60      0.60      1191\n",
      "weighted avg       0.61      0.61      0.60      1191\n",
      "\n"
     ]
    }
   ],
   "source": [
    "#classification report of the overfitiing model\n",
    "from sklearn.metrics import classification_report\n",
    "print(classification_report(y_test, y_pred))"
   ]
  },
  {
   "cell_type": "code",
   "execution_count": 381,
   "metadata": {},
   "outputs": [
    {
     "data": {
      "image/png": "[encoded data removed]",
      "text/plain": [
       "<Figure size 432x288 with 1 Axes>"
      ]
     },
     "metadata": {
      "needs_background": "light"
     },
     "output_type": "display_data"
    }
   ],
   "source": [
    "#plotting accuracy of the overfitting model\n",
    "def plot_metric(history, metric):\n",
    "    train_metrics = history.history[metric]\n",
    "    val_metrics = history.history['val_'+metric]\n",
    "    epochs = range(1, len(train_metrics) + 1)\n",
    "    plt.plot(epochs, train_metrics)\n",
    "    plt.plot(epochs, val_metrics)\n",
    "    plt.title('Training and validation '+ metric)\n",
    "    plt.xlabel(\"Epochs\")\n",
    "    plt.ylabel(metric)\n",
    "    plt.legend([\"train_\"+metric, 'val_'+metric])\n",
    "    plt.show()\n",
    "plot_metric(history, 'accuracy')"
   ]
  },
  {
   "cell_type": "code",
   "execution_count": 383,
   "metadata": {},
   "outputs": [],
   "source": [
    "training_loss = history.history['loss']\n",
    "test_loss = history.history['val_loss']"
   ]
  },
  {
   "cell_type": "code",
   "execution_count": 384,
   "metadata": {},
   "outputs": [
    {
     "data": {
      "image/png": "[encoded data removed]",
      "text/plain": [
       "<Figure size 432x288 with 1 Axes>"
      ]
     },
     "metadata": {
      "needs_background": "light"
     },
     "output_type": "display_data"
    }
   ],
   "source": [
    "#plotting loss of the overfitiing model. The good one is above\n",
    "epoch_count = range(1,len(training_loss) +1)\n",
    "plt.plot(epoch_count, training_loss, 'r--')\n",
    "plt.plot(epoch_count, test_loss,'b-')\n",
    "plt.legend(['Training loss', 'Test loss'])\n",
    "plt.xlabel('epoch')\n",
    "plt.ylabel('Loss')\n",
    "plt.show();"
   ]
  },
  {
   "cell_type": "markdown",
   "metadata": {},
   "source": [
    "The plots are indicators of the model overfitting. "
   ]
  }
 ],
 "metadata": {
  "kernelspec": {
   "display_name": "Python 3",
   "language": "python",
   "name": "python3"
  },
  "language_info": {
   "codemirror_mode": {
    "name": "ipython",
    "version": 3
   },
   "file_extension": ".py",
   "mimetype": "text/x-python",
   "name": "python",
   "nbconvert_exporter": "python",
   "pygments_lexer": "ipython3",
   "version": "3.7.6"
  }
 },
 "nbformat": 4,
 "nbformat_minor": 2
}
